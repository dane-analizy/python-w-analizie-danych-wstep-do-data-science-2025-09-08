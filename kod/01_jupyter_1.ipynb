{
 "cells": [
  {
   "cell_type": "code",
   "execution_count": 1,
   "id": "e0eb3e84-d6e0-46d0-b855-ceb5502841ec",
   "metadata": {},
   "outputs": [
    {
     "name": "stdout",
     "output_type": "stream",
     "text": [
      "1\n"
     ]
    }
   ],
   "source": [
    "# to jest cellka typu kod\n",
    "a = 1\n",
    "\n",
    "\n",
    "print(a)"
   ]
  },
  {
   "cell_type": "markdown",
   "id": "3a42b30a-d723-4c4d-a1c3-5daa2691f9f9",
   "metadata": {},
   "source": [
    "to jest celka typu markdown\n",
    "\n",
    "# tytuł\n",
    "## podtytył\n",
    "\n",
    "lista:\n",
    "\n",
    "- element 1\n",
    "- element 2\n",
    "\n",
    "---\n",
    "\n",
    "## drugi rodział\n",
    "\n",
    "lista numerowana:\n",
    "\n",
    "1. jeden\n",
    "2. dwa\n",
    "3. trzy\n",
    "\n",
    "## rozdział 3:\n",
    "\n",
    "```python\n",
    "def f(x):\n",
    "    print(x**2)\n",
    "```"
   ]
  },
  {
   "cell_type": "raw",
   "id": "77b08919-ad5e-4872-afab-d792c188cb8b",
   "metadata": {},
   "source": [
    "to jest celka typu markdown\n",
    "\n",
    "# tytuł\n",
    "## podtytył\n",
    "\n",
    "lista:\n",
    "\n",
    "- element 1\n",
    "- element 2\n",
    "\n",
    "---\n",
    "\n",
    "## drugi rodział\n",
    "\n",
    "lista numerowana:\n",
    "\n",
    "1. jeden\n",
    "2. dwa\n",
    "3. trzy\n",
    "\n",
    "## rozdział 3:\n",
    "\n",
    "```python\n",
    "def f(x):\n",
    "    print(x**2)\n",
    "```"
   ]
  }
 ],
 "metadata": {
  "kernelspec": {
   "display_name": "Python 3 (ipykernel)",
   "language": "python",
   "name": "python3"
  },
  "language_info": {
   "codemirror_mode": {
    "name": "ipython",
    "version": 3
   },
   "file_extension": ".py",
   "mimetype": "text/x-python",
   "name": "python",
   "nbconvert_exporter": "python",
   "pygments_lexer": "ipython3",
   "version": "3.10.7"
  }
 },
 "nbformat": 4,
 "nbformat_minor": 5
}
