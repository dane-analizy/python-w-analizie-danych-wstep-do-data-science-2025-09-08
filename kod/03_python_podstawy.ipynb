{
 "cells": [
  {
   "cell_type": "markdown",
   "id": "79211ef6-23ab-476c-bf75-801634124012",
   "metadata": {},
   "source": [
    "## Zmienne"
   ]
  },
  {
   "cell_type": "code",
   "execution_count": 2,
   "id": "85ecb82f-a14e-4d24-ad7e-bf0d836c989f",
   "metadata": {},
   "outputs": [],
   "source": [
    "a = 1234 # liczba całkowita\n",
    "b = 123.768 # liczba dziesiętna \n",
    "s = \"ala ma kota\" # napis"
   ]
  },
  {
   "cell_type": "code",
   "execution_count": 3,
   "id": "afc68c62-e9dd-4e35-a2fc-060f5a939ded",
   "metadata": {},
   "outputs": [
    {
     "data": {
      "text/plain": [
       "1234"
      ]
     },
     "execution_count": 3,
     "metadata": {},
     "output_type": "execute_result"
    }
   ],
   "source": [
    "a"
   ]
  },
  {
   "cell_type": "code",
   "execution_count": 4,
   "id": "e0135242-e390-47f3-af55-a2076ab96192",
   "metadata": {},
   "outputs": [
    {
     "data": {
      "text/plain": [
       "123.768"
      ]
     },
     "execution_count": 4,
     "metadata": {},
     "output_type": "execute_result"
    }
   ],
   "source": [
    "b"
   ]
  },
  {
   "cell_type": "code",
   "execution_count": 5,
   "id": "6f272d86-780a-412f-b26b-dd47a0a1f94e",
   "metadata": {},
   "outputs": [
    {
     "data": {
      "text/plain": [
       "'ala ma kota'"
      ]
     },
     "execution_count": 5,
     "metadata": {},
     "output_type": "execute_result"
    }
   ],
   "source": [
    "s"
   ]
  },
  {
   "cell_type": "code",
   "execution_count": 7,
   "id": "b0b4bfa2-1bb3-4ca4-b561-6146bb1a6588",
   "metadata": {},
   "outputs": [
    {
     "data": {
      "text/plain": [
       "1357.768"
      ]
     },
     "execution_count": 7,
     "metadata": {},
     "output_type": "execute_result"
    }
   ],
   "source": [
    "a + b"
   ]
  },
  {
   "cell_type": "code",
   "execution_count": 8,
   "id": "bba61450-5324-4c70-84ab-ee39165bf6d6",
   "metadata": {},
   "outputs": [
    {
     "ename": "TypeError",
     "evalue": "unsupported operand type(s) for +: 'int' and 'str'",
     "output_type": "error",
     "traceback": [
      "\u001b[1;31m---------------------------------------------------------------------------\u001b[0m",
      "\u001b[1;31mTypeError\u001b[0m                                 Traceback (most recent call last)",
      "Cell \u001b[1;32mIn[8], line 1\u001b[0m\n\u001b[1;32m----> 1\u001b[0m \u001b[43ma\u001b[49m\u001b[43m \u001b[49m\u001b[38;5;241;43m+\u001b[39;49m\u001b[43m \u001b[49m\u001b[43ms\u001b[49m\n",
      "\u001b[1;31mTypeError\u001b[0m: unsupported operand type(s) for +: 'int' and 'str'"
     ]
    }
   ],
   "source": [
    "a + s"
   ]
  },
  {
   "cell_type": "code",
   "execution_count": 9,
   "id": "168b7fec-5220-42c0-96bd-bb2fb9f4a019",
   "metadata": {},
   "outputs": [
    {
     "ename": "TypeError",
     "evalue": "unsupported operand type(s) for +: 'float' and 'str'",
     "output_type": "error",
     "traceback": [
      "\u001b[1;31m---------------------------------------------------------------------------\u001b[0m",
      "\u001b[1;31mTypeError\u001b[0m                                 Traceback (most recent call last)",
      "Cell \u001b[1;32mIn[9], line 1\u001b[0m\n\u001b[1;32m----> 1\u001b[0m \u001b[43mb\u001b[49m\u001b[43m \u001b[49m\u001b[38;5;241;43m+\u001b[39;49m\u001b[43m \u001b[49m\u001b[43ms\u001b[49m\n",
      "\u001b[1;31mTypeError\u001b[0m: unsupported operand type(s) for +: 'float' and 'str'"
     ]
    }
   ],
   "source": [
    "b + s"
   ]
  },
  {
   "cell_type": "code",
   "execution_count": 10,
   "id": "c12db578-290c-4682-9253-2efb0d38663e",
   "metadata": {},
   "outputs": [
    {
     "data": {
      "text/plain": [
       "'ala ma kotaala ma kota'"
      ]
     },
     "execution_count": 10,
     "metadata": {},
     "output_type": "execute_result"
    }
   ],
   "source": [
    "s + s"
   ]
  },
  {
   "cell_type": "markdown",
   "id": "55fcf00e-b0fd-4aaf-82a7-b83fe6bc87f2",
   "metadata": {},
   "source": [
    "## Zadanie 1\n",
    "\n",
    "Przypisz do dwóch zmiennych wartości 5 i 2.2.\\\n",
    "Oblicz sumę i iloraz tych zmiennych, podaj wynik z odpowiednim typem danych."
   ]
  },
  {
   "cell_type": "code",
   "execution_count": 17,
   "id": "480f4254-e312-4664-a907-e4005d87dcf3",
   "metadata": {},
   "outputs": [
    {
     "name": "stdout",
     "output_type": "stream",
     "text": [
      "7.2\n",
      "2.2727272727272725\n"
     ]
    }
   ],
   "source": [
    "## Rozwiązanie:\n",
    "\n",
    "zmienna_1 = 5\n",
    "zmienna_2 = 2.2\n",
    "\n",
    "# suma:\n",
    "print(zmienna_1 + zmienna_2)\n",
    "\n",
    "# iloraz\n",
    "print(zmienna_1 / zmienna_2)"
   ]
  },
  {
   "cell_type": "markdown",
   "id": "32692b1a-d329-482d-9ff6-3f693f4c426a",
   "metadata": {},
   "source": [
    "## listy"
   ]
  },
  {
   "cell_type": "code",
   "execution_count": 18,
   "id": "56075815-949d-42ac-8e4c-8ef90a6ee904",
   "metadata": {},
   "outputs": [
    {
     "data": {
      "text/plain": [
       "[1, 'abc', 34.56]"
      ]
     },
     "execution_count": 18,
     "metadata": {},
     "output_type": "execute_result"
    }
   ],
   "source": [
    "lista = [1, 'abc', 34.56]\n",
    "lista\n"
   ]
  },
  {
   "cell_type": "code",
   "execution_count": 21,
   "id": "a2b37f8b-6235-4381-add4-f50e52da5532",
   "metadata": {},
   "outputs": [
    {
     "name": "stdout",
     "output_type": "stream",
     "text": [
      "None\n"
     ]
    }
   ],
   "source": [
    "print(lista.append(1000))"
   ]
  },
  {
   "cell_type": "code",
   "execution_count": 22,
   "id": "6ace4d08-273f-4ade-b01b-047894133b03",
   "metadata": {},
   "outputs": [
    {
     "data": {
      "text/plain": [
       "[1, 'abc', 34.56, 1000, 1000]"
      ]
     },
     "execution_count": 22,
     "metadata": {},
     "output_type": "execute_result"
    }
   ],
   "source": [
    "lista"
   ]
  },
  {
   "cell_type": "code",
   "execution_count": 23,
   "id": "00ab3a87-2337-42f6-b036-0d472a6f3598",
   "metadata": {},
   "outputs": [
    {
     "data": {
      "text/plain": [
       "5"
      ]
     },
     "execution_count": 23,
     "metadata": {},
     "output_type": "execute_result"
    }
   ],
   "source": [
    "len(lista)"
   ]
  },
  {
   "cell_type": "markdown",
   "id": "7793a41b-8612-4885-a212-e100c0e9f33f",
   "metadata": {},
   "source": [
    "## Zadanie\n",
    "\n",
    "Dodaj do listy `lista` wartość `6` i zwróć długość listy"
   ]
  },
  {
   "cell_type": "code",
   "execution_count": 24,
   "id": "9a8df8d4-4833-449e-9154-4d8bccb3cc63",
   "metadata": {},
   "outputs": [
    {
     "data": {
      "text/plain": [
       "[1, 'abc', 34.56, 1000, 1000, 6]"
      ]
     },
     "execution_count": 24,
     "metadata": {},
     "output_type": "execute_result"
    }
   ],
   "source": [
    "# rozwiązanie\n",
    "lista.append(6)\n",
    "lista\n"
   ]
  },
  {
   "cell_type": "code",
   "execution_count": 25,
   "id": "420e2d84-6e17-48d7-bca5-b9b792c66672",
   "metadata": {},
   "outputs": [
    {
     "data": {
      "text/plain": [
       "(1, 2, 'abc', 4, 5)"
      ]
     },
     "execution_count": 25,
     "metadata": {},
     "output_type": "execute_result"
    }
   ],
   "source": [
    "# krotki / tuple\n",
    "\n",
    "krotka = (1, 2, 'abc', 4, 5)\n",
    "krotka"
   ]
  },
  {
   "cell_type": "code",
   "execution_count": 26,
   "id": "6d4b7eaf-4378-4c6d-85ed-59028259086e",
   "metadata": {},
   "outputs": [
    {
     "data": {
      "text/plain": [
       "(1, 'abc', 34.56, 1000, 1000, 6)"
      ]
     },
     "execution_count": 26,
     "metadata": {},
     "output_type": "execute_result"
    }
   ],
   "source": [
    "tuple(lista)"
   ]
  },
  {
   "cell_type": "code",
   "execution_count": 27,
   "id": "a935934e-72a0-497a-a6f2-d26c9197b3e9",
   "metadata": {},
   "outputs": [
    {
     "data": {
      "text/plain": [
       "[1, 2, 'abc', 4, 5]"
      ]
     },
     "execution_count": 27,
     "metadata": {},
     "output_type": "execute_result"
    }
   ],
   "source": [
    "list(krotka)"
   ]
  },
  {
   "cell_type": "code",
   "execution_count": 28,
   "id": "4cacccb5-ee23-4f4c-8a42-d0e4145923f3",
   "metadata": {},
   "outputs": [
    {
     "ename": "AttributeError",
     "evalue": "'tuple' object has no attribute 'append'",
     "output_type": "error",
     "traceback": [
      "\u001b[1;31m---------------------------------------------------------------------------\u001b[0m",
      "\u001b[1;31mAttributeError\u001b[0m                            Traceback (most recent call last)",
      "Cell \u001b[1;32mIn[28], line 1\u001b[0m\n\u001b[1;32m----> 1\u001b[0m \u001b[43mkrotka\u001b[49m\u001b[38;5;241;43m.\u001b[39;49m\u001b[43mappend\u001b[49m(\u001b[38;5;241m135415\u001b[39m)\n",
      "\u001b[1;31mAttributeError\u001b[0m: 'tuple' object has no attribute 'append'"
     ]
    }
   ],
   "source": [
    "krotka.append(135415)"
   ]
  },
  {
   "cell_type": "code",
   "execution_count": 29,
   "id": "e4fc47b7-e464-411f-bafb-2685f555b342",
   "metadata": {},
   "outputs": [
    {
     "data": {
      "text/plain": [
       "{1, 2, 3, 4, 'abc'}"
      ]
     },
     "execution_count": 29,
     "metadata": {},
     "output_type": "execute_result"
    }
   ],
   "source": [
    "# zbiory / set\n",
    "\n",
    "zbior = {1, 1, 2, 2, 3, 4, 'abc' }\n",
    "zbior"
   ]
  },
  {
   "cell_type": "code",
   "execution_count": 30,
   "id": "e0f7ec1b-19da-4f2f-a03b-a5c4ca3f7770",
   "metadata": {},
   "outputs": [
    {
     "data": {
      "text/plain": [
       "{1, 1000, 34.56, 6, 'abc'}"
      ]
     },
     "execution_count": 30,
     "metadata": {},
     "output_type": "execute_result"
    }
   ],
   "source": [
    "set(lista)"
   ]
  },
  {
   "cell_type": "code",
   "execution_count": 39,
   "id": "d55801fc-9c0c-4390-b1a8-d4e143ae3faa",
   "metadata": {},
   "outputs": [
    {
     "data": {
      "text/plain": [
       "['Jan',\n",
       " 'Anna',\n",
       " 'Jan',\n",
       " 'Anna',\n",
       " 'Jan',\n",
       " 'Anna',\n",
       " 'Tomasz',\n",
       " 'Iryna',\n",
       " 'Michał',\n",
       " 'Jakub',\n",
       " 'Łukasz']"
      ]
     },
     "execution_count": 39,
     "metadata": {},
     "output_type": "execute_result"
    }
   ],
   "source": [
    "imie = ['Jan', 'Anna', 'Jan', 'Anna', 'Jan', 'Anna', \"Tomasz\", \"Iryna\", \"Michał\", \"Jakub\", \"Łukasz\"]\n",
    "imie"
   ]
  },
  {
   "cell_type": "code",
   "execution_count": 40,
   "id": "d45f9467-41bb-4e0b-8184-75f019d0700c",
   "metadata": {},
   "outputs": [
    {
     "data": {
      "text/plain": [
       "['Jakub', 'Tomasz', 'Łukasz', 'Michał', 'Jan', 'Iryna', 'Anna']"
      ]
     },
     "execution_count": 40,
     "metadata": {},
     "output_type": "execute_result"
    }
   ],
   "source": [
    "lista_unikalnych_imion = list(set(imie))\n",
    "lista_unikalnych_imion"
   ]
  },
  {
   "cell_type": "code",
   "execution_count": 44,
   "id": "c188342b-cf4e-432a-8329-c8a6c754c637",
   "metadata": {},
   "outputs": [
    {
     "data": {
      "text/plain": [
       "{'abc': 123,\n",
       " 'efg': 'Anna',\n",
       " 124: {'a': 1, 'b': 2},\n",
       " (1, 2): ['klucz', 'jako', 'lista']}"
      ]
     },
     "execution_count": 44,
     "metadata": {},
     "output_type": "execute_result"
    }
   ],
   "source": [
    "# słownik / dict\n",
    "\n",
    "slownik = {\n",
    "    'abc': 123,\n",
    "    'efg': 'Anna',\n",
    "    124: {\"a\": 1, \"b\":2},\n",
    "    (1,2): ['klucz', 'jako', 'lista']\n",
    "}\n",
    "\n",
    "slownik"
   ]
  },
  {
   "cell_type": "code",
   "execution_count": 45,
   "id": "a49a8a81-df31-48c9-a5e1-6f2c5146f717",
   "metadata": {},
   "outputs": [
    {
     "data": {
      "text/plain": [
       "dict_keys(['abc', 'efg', 124, (1, 2)])"
      ]
     },
     "execution_count": 45,
     "metadata": {},
     "output_type": "execute_result"
    }
   ],
   "source": [
    "slownik.keys()"
   ]
  },
  {
   "cell_type": "code",
   "execution_count": 46,
   "id": "76c2fc0d-716a-40d4-b205-5a8d10765d12",
   "metadata": {},
   "outputs": [
    {
     "data": {
      "text/plain": [
       "dict_values([123, 'Anna', {'a': 1, 'b': 2}, ['klucz', 'jako', 'lista']])"
      ]
     },
     "execution_count": 46,
     "metadata": {},
     "output_type": "execute_result"
    }
   ],
   "source": [
    "slownik.values()"
   ]
  },
  {
   "cell_type": "code",
   "execution_count": 47,
   "id": "24f49267-cf1b-44f0-85fe-0bb9cdc34a5d",
   "metadata": {},
   "outputs": [
    {
     "data": {
      "text/plain": [
       "dict_items([('abc', 123), ('efg', 'Anna'), (124, {'a': 1, 'b': 2}), ((1, 2), ['klucz', 'jako', 'lista'])])"
      ]
     },
     "execution_count": 47,
     "metadata": {},
     "output_type": "execute_result"
    }
   ],
   "source": [
    "slownik.items()"
   ]
  },
  {
   "cell_type": "markdown",
   "id": "ba7b608a-60fb-4dd6-a5dd-ad97ba138ff3",
   "metadata": {},
   "source": [
    "## inteksowanie"
   ]
  },
  {
   "cell_type": "code",
   "execution_count": 48,
   "id": "f5a26ba5-6ff9-45fd-8663-879977955150",
   "metadata": {},
   "outputs": [
    {
     "data": {
      "text/plain": [
       "[1, 'abc', 34.56, 1000, 1000, 6]"
      ]
     },
     "execution_count": 48,
     "metadata": {},
     "output_type": "execute_result"
    }
   ],
   "source": [
    "# lista\n",
    "\n",
    "lista"
   ]
  },
  {
   "cell_type": "code",
   "execution_count": 50,
   "id": "54cdce0b-5f01-415a-9b0a-8ca7431f7f59",
   "metadata": {},
   "outputs": [
    {
     "data": {
      "text/plain": [
       "34.56"
      ]
     },
     "execution_count": 50,
     "metadata": {},
     "output_type": "execute_result"
    }
   ],
   "source": [
    "lista[2]"
   ]
  },
  {
   "cell_type": "code",
   "execution_count": 51,
   "id": "243adca0-6ecd-4177-ac19-e38c53126742",
   "metadata": {},
   "outputs": [
    {
     "data": {
      "text/plain": [
       "1"
      ]
     },
     "execution_count": 51,
     "metadata": {},
     "output_type": "execute_result"
    }
   ],
   "source": [
    "krotka[0]"
   ]
  },
  {
   "cell_type": "code",
   "execution_count": 56,
   "id": "624a7ced-b23c-45b7-a6ce-32616880121e",
   "metadata": {},
   "outputs": [
    {
     "data": {
      "text/plain": [
       "3"
      ]
     },
     "execution_count": 56,
     "metadata": {},
     "output_type": "execute_result"
    }
   ],
   "source": [
    "list(zbior)[2]"
   ]
  },
  {
   "cell_type": "code",
   "execution_count": 58,
   "id": "a3bfd42b-9400-4e3c-ad2f-3b6e07bef2f7",
   "metadata": {},
   "outputs": [
    {
     "data": {
      "text/plain": [
       "{'abc': 123,\n",
       " 'efg': 'Anna',\n",
       " 124: {'a': 1, 'b': 2},\n",
       " (1, 2): ['klucz', 'jako', 'lista']}"
      ]
     },
     "execution_count": 58,
     "metadata": {},
     "output_type": "execute_result"
    }
   ],
   "source": [
    "slownik"
   ]
  },
  {
   "cell_type": "code",
   "execution_count": 61,
   "id": "c9b89f50-1676-4ea9-802a-ecfa11128fad",
   "metadata": {},
   "outputs": [
    {
     "data": {
      "text/plain": [
       "'Anna'"
      ]
     },
     "execution_count": 61,
     "metadata": {},
     "output_type": "execute_result"
    }
   ],
   "source": [
    "slownik['efg']"
   ]
  },
  {
   "cell_type": "code",
   "execution_count": 62,
   "id": "fe14814f-c500-452a-b053-10dd78a820a7",
   "metadata": {},
   "outputs": [
    {
     "data": {
      "text/plain": [
       "'wartosc domyślna'"
      ]
     },
     "execution_count": 62,
     "metadata": {},
     "output_type": "execute_result"
    }
   ],
   "source": [
    "slownik.get('xyz', 'wartosc domyślna')"
   ]
  },
  {
   "cell_type": "code",
   "execution_count": 63,
   "id": "d7646ba6-86de-4fe8-80b7-6838cb2c10dd",
   "metadata": {},
   "outputs": [
    {
     "data": {
      "text/plain": [
       "[]"
      ]
     },
     "execution_count": 63,
     "metadata": {},
     "output_type": "execute_result"
    }
   ],
   "source": [
    "slownik.get('xyz', [])"
   ]
  },
  {
   "cell_type": "code",
   "execution_count": 65,
   "id": "002b082c-527f-4dda-a772-565fcbe19661",
   "metadata": {},
   "outputs": [
    {
     "name": "stdout",
     "output_type": "stream",
     "text": [
      "None\n"
     ]
    }
   ],
   "source": [
    "print(slownik.get('xyz'))"
   ]
  },
  {
   "cell_type": "code",
   "execution_count": 66,
   "id": "1321757e-7637-4cae-9565-f76a712be40c",
   "metadata": {},
   "outputs": [
    {
     "ename": "SyntaxError",
     "evalue": "incomplete input (800553053.py, line 1)",
     "output_type": "error",
     "traceback": [
      "\u001b[1;36m  Cell \u001b[1;32mIn[66], line 1\u001b[1;36m\u001b[0m\n\u001b[1;33m    if klient['email']:\u001b[0m\n\u001b[1;37m                       ^\u001b[0m\n\u001b[1;31mSyntaxError\u001b[0m\u001b[1;31m:\u001b[0m incomplete input\n"
     ]
    }
   ],
   "source": [
    "if klient.get('email'):\n",
    "    wyslij_mail(klient['email'])"
   ]
  },
  {
   "cell_type": "code",
   "execution_count": 67,
   "id": "4d5a3ae2-e525-4508-986d-3e13824f0714",
   "metadata": {},
   "outputs": [],
   "source": [
    "# slicing"
   ]
  },
  {
   "cell_type": "code",
   "execution_count": 68,
   "id": "ef8a578f-4656-49d6-889a-87b56cb1e162",
   "metadata": {},
   "outputs": [
    {
     "data": {
      "text/plain": [
       "[1, 'abc', 34.56, 1000, 1000, 6]"
      ]
     },
     "execution_count": 68,
     "metadata": {},
     "output_type": "execute_result"
    }
   ],
   "source": [
    "lista"
   ]
  },
  {
   "cell_type": "code",
   "execution_count": 69,
   "id": "4c085c77-6e40-4e53-8252-b462eeed373d",
   "metadata": {},
   "outputs": [
    {
     "data": {
      "text/plain": [
       "[34.56, 1000]"
      ]
     },
     "execution_count": 69,
     "metadata": {},
     "output_type": "execute_result"
    }
   ],
   "source": [
    "lista[2:4]"
   ]
  },
  {
   "cell_type": "code",
   "execution_count": 70,
   "id": "bea08609-b95f-413a-b08c-02023d12363f",
   "metadata": {},
   "outputs": [
    {
     "data": {
      "text/plain": [
       "[1, 'abc', 34.56, 1000]"
      ]
     },
     "execution_count": 70,
     "metadata": {},
     "output_type": "execute_result"
    }
   ],
   "source": [
    "lista[   : 4]"
   ]
  },
  {
   "cell_type": "code",
   "execution_count": 71,
   "id": "e12e8fa5-daeb-4086-9466-a6bffe726501",
   "metadata": {},
   "outputs": [
    {
     "data": {
      "text/plain": [
       "[1000, 1000, 6]"
      ]
     },
     "execution_count": 71,
     "metadata": {},
     "output_type": "execute_result"
    }
   ],
   "source": [
    "lista[3:   ]"
   ]
  },
  {
   "cell_type": "code",
   "execution_count": 72,
   "id": "4df54f82-604e-499b-bd1c-5034399c3a83",
   "metadata": {},
   "outputs": [
    {
     "data": {
      "text/plain": [
       "6"
      ]
     },
     "execution_count": 72,
     "metadata": {},
     "output_type": "execute_result"
    }
   ],
   "source": [
    "lista[-1]"
   ]
  },
  {
   "cell_type": "code",
   "execution_count": 75,
   "id": "0c3cd016-3d21-49be-bf5c-71891933edaf",
   "metadata": {},
   "outputs": [],
   "source": [
    "s = 'ala ma kota'"
   ]
  },
  {
   "cell_type": "code",
   "execution_count": 76,
   "id": "2e7cff94-9fb2-45cb-9f2f-de602fe44a0c",
   "metadata": {},
   "outputs": [
    {
     "data": {
      "text/plain": [
       "'ala m'"
      ]
     },
     "execution_count": 76,
     "metadata": {},
     "output_type": "execute_result"
    }
   ],
   "source": [
    "s[:5]"
   ]
  },
  {
   "cell_type": "code",
   "execution_count": 79,
   "id": "1d17b354-fead-4e86-bcb3-bbcd472b88d0",
   "metadata": {},
   "outputs": [
    {
     "data": {
      "text/plain": [
       "'ota'"
      ]
     },
     "execution_count": 79,
     "metadata": {},
     "output_type": "execute_result"
    }
   ],
   "source": [
    "s[-3:]"
   ]
  },
  {
   "cell_type": "code",
   "execution_count": 80,
   "id": "86d859a1-d25b-43ae-9033-233d85bca9e6",
   "metadata": {},
   "outputs": [
    {
     "data": {
      "text/plain": [
       "'aam oa'"
      ]
     },
     "execution_count": 80,
     "metadata": {},
     "output_type": "execute_result"
    }
   ],
   "source": [
    "s[::2]"
   ]
  },
  {
   "cell_type": "code",
   "execution_count": 81,
   "id": "589b9842-56dc-45d2-ac7d-965e13b10cb0",
   "metadata": {},
   "outputs": [
    {
     "data": {
      "text/plain": [
       "'atok am ala'"
      ]
     },
     "execution_count": 81,
     "metadata": {},
     "output_type": "execute_result"
    }
   ],
   "source": [
    "s[::-1]"
   ]
  },
  {
   "cell_type": "code",
   "execution_count": 82,
   "id": "88333673-a9bd-43dc-9fa7-069443659bf0",
   "metadata": {},
   "outputs": [
    {
     "data": {
      "text/plain": [
       "[6, 1000, 1000, 34.56, 'abc', 1]"
      ]
     },
     "execution_count": 82,
     "metadata": {},
     "output_type": "execute_result"
    }
   ],
   "source": [
    "lista[::-1]"
   ]
  },
  {
   "cell_type": "markdown",
   "id": "ac19bdd7-044d-49f0-b891-08853e44523e",
   "metadata": {},
   "source": [
    "## funkcje"
   ]
  },
  {
   "cell_type": "code",
   "execution_count": 83,
   "id": "08b0ea84-98e5-4de7-8aa9-e39908f3f1c0",
   "metadata": {},
   "outputs": [],
   "source": [
    "def funkcja(a, b, c):\n",
    "    print(\"a\", a)\n",
    "    print(\"b\", b)\n",
    "    print(\"c\", c)\n",
    "    print(\"a + b + c\", a+b+c)\n",
    "    iloraz = a*b*c\n",
    "    return iloraz\n",
    "    "
   ]
  },
  {
   "cell_type": "code",
   "execution_count": 86,
   "id": "c8981013-5e8d-4e17-8073-d9fc14641e77",
   "metadata": {},
   "outputs": [
    {
     "name": "stdout",
     "output_type": "stream",
     "text": [
      "a 3\n",
      "b 6\n",
      "c 10\n",
      "a + b + c 19\n"
     ]
    }
   ],
   "source": [
    "wynik = funkcja(a=3, b=6, c=10)"
   ]
  },
  {
   "cell_type": "code",
   "execution_count": 87,
   "id": "7c38d5a6-abda-4fd2-9eed-70e9c161820c",
   "metadata": {},
   "outputs": [
    {
     "data": {
      "text/plain": [
       "180"
      ]
     },
     "execution_count": 87,
     "metadata": {},
     "output_type": "execute_result"
    }
   ],
   "source": [
    "wynik"
   ]
  },
  {
   "cell_type": "code",
   "execution_count": 92,
   "id": "840f79c5-6aba-4e2d-92aa-9a4cd00be227",
   "metadata": {},
   "outputs": [],
   "source": [
    "# funkcje anonimowe\n",
    "kwadrat = lambda x: x*x"
   ]
  },
  {
   "cell_type": "code",
   "execution_count": 93,
   "id": "813edd8f-1cd6-41b9-9590-50f849f76894",
   "metadata": {},
   "outputs": [
    {
     "data": {
      "text/plain": [
       "25"
      ]
     },
     "execution_count": 93,
     "metadata": {},
     "output_type": "execute_result"
    }
   ],
   "source": [
    "kwadrat(5)"
   ]
  }
 ],
 "metadata": {
  "kernelspec": {
   "display_name": "Python 3 (ipykernel)",
   "language": "python",
   "name": "python3"
  },
  "language_info": {
   "codemirror_mode": {
    "name": "ipython",
    "version": 3
   },
   "file_extension": ".py",
   "mimetype": "text/x-python",
   "name": "python",
   "nbconvert_exporter": "python",
   "pygments_lexer": "ipython3",
   "version": "3.10.7"
  }
 },
 "nbformat": 4,
 "nbformat_minor": 5
}
