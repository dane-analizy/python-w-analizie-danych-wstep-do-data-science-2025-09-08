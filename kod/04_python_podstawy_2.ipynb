{
 "cells": [
  {
   "cell_type": "code",
   "execution_count": 1,
   "id": "383b3109-6660-4ca3-b865-f81239b2e228",
   "metadata": {},
   "outputs": [
    {
     "data": {
      "text/plain": [
       "[1, 23, 5, 6, 89]"
      ]
     },
     "execution_count": 1,
     "metadata": {},
     "output_type": "execute_result"
    }
   ],
   "source": [
    "# list comprehention\n",
    "liczby = [1, 23, 5, 6, 89]\n",
    "liczby"
   ]
  },
  {
   "cell_type": "code",
   "execution_count": null,
   "id": "a7533eb5-8e70-4df9-ab7f-a5d26c7a91c7",
   "metadata": {},
   "outputs": [],
   "source": [
    "liczby = [1, 23, 5, 6, 89]\n",
    "kwadraty = []\n",
    "for l in liczby:\n",
    "    print(l)\n",
    "    kw_l = l**2\n",
    "    print(kw_l)\n",
    "    kwadraty.append(kw_l)"
   ]
  },
  {
   "cell_type": "code",
   "execution_count": null,
   "id": "ef5f691a-5c35-494e-bb79-3b876067c19a",
   "metadata": {},
   "outputs": [],
   "source": [
    "kwadraty"
   ]
  },
  {
   "cell_type": "code",
   "execution_count": null,
   "id": "71e457c5-932d-4659-a0b5-c758c60a825a",
   "metadata": {},
   "outputs": [],
   "source": [
    "liczby = [1, 23, 5, 6, 89]\n",
    "\n",
    "kwadraty = []\n",
    "for l in liczby:\n",
    "    kwadraty.append(l**2)"
   ]
  },
  {
   "cell_type": "code",
   "execution_count": 2,
   "id": "3803734d-f7c2-4f51-94ac-0bcdadd78ce7",
   "metadata": {},
   "outputs": [],
   "source": [
    "# list comprehention\n",
    "kwadraty = [   l**2     for l in liczby  ]"
   ]
  },
  {
   "cell_type": "code",
   "execution_count": 3,
   "id": "e8242f4e-8464-4a0b-9bd8-e0c6ca8c4be0",
   "metadata": {},
   "outputs": [
    {
     "data": {
      "text/plain": [
       "[1, 529, 25, 36, 7921]"
      ]
     },
     "execution_count": 3,
     "metadata": {},
     "output_type": "execute_result"
    }
   ],
   "source": [
    "kwadraty"
   ]
  },
  {
   "cell_type": "code",
   "execution_count": 5,
   "id": "83e6d7df-5e0c-4438-bf05-ed1faa7c9a2b",
   "metadata": {},
   "outputs": [
    {
     "data": {
      "text/plain": [
       "[0,\n",
       " 1,\n",
       " 2,\n",
       " 3,\n",
       " 4,\n",
       " 5,\n",
       " 6,\n",
       " 7,\n",
       " 8,\n",
       " 9,\n",
       " 0,\n",
       " 3,\n",
       " 6,\n",
       " 9,\n",
       " 12,\n",
       " 15,\n",
       " 18,\n",
       " 21,\n",
       " 24,\n",
       " 27,\n",
       " 0,\n",
       " 5,\n",
       " 10,\n",
       " 15,\n",
       " 20,\n",
       " 25,\n",
       " 30,\n",
       " 35,\n",
       " 40,\n",
       " 45,\n",
       " 0,\n",
       " 7,\n",
       " 14,\n",
       " 21,\n",
       " 28,\n",
       " 35,\n",
       " 42,\n",
       " 49,\n",
       " 56,\n",
       " 63,\n",
       " 0,\n",
       " 9,\n",
       " 18,\n",
       " 27,\n",
       " 36,\n",
       " 45,\n",
       " 54,\n",
       " 63,\n",
       " 72,\n",
       " 81]"
      ]
     },
     "execution_count": 5,
     "metadata": {},
     "output_type": "execute_result"
    }
   ],
   "source": [
    "[x*y for x in range(10) for y in range(10) if x % 2 == 1]\n"
   ]
  },
  {
   "cell_type": "code",
   "execution_count": 7,
   "id": "6133c57d-64c6-4464-b2b4-1164394f5fb5",
   "metadata": {},
   "outputs": [
    {
     "data": {
      "text/plain": [
       "[0, 1, 2, 3, 4, 5, 6, 7, 8, 9]"
      ]
     },
     "execution_count": 7,
     "metadata": {},
     "output_type": "execute_result"
    }
   ],
   "source": [
    "# dict comptecention\n",
    "liczby = list(range(10))\n",
    "liczby"
   ]
  },
  {
   "cell_type": "code",
   "execution_count": 8,
   "id": "18938b65-6c3a-4a13-9ea5-ddaaa666dd73",
   "metadata": {},
   "outputs": [
    {
     "data": {
      "text/plain": [
       "('a', 'b', 'c', 'd')"
      ]
     },
     "execution_count": 8,
     "metadata": {},
     "output_type": "execute_result"
    }
   ],
   "source": [
    "litery = ('a', 'b', 'c', 'd')\n",
    "litery"
   ]
  },
  {
   "cell_type": "code",
   "execution_count": 11,
   "id": "fed16a70-7a33-4a44-8c8c-ed5d14394d4d",
   "metadata": {},
   "outputs": [
    {
     "data": {
      "text/plain": [
       "11"
      ]
     },
     "execution_count": 11,
     "metadata": {},
     "output_type": "execute_result"
    }
   ],
   "source": [
    "litery = tuple('abcdefghijk')\n",
    "len(litery)"
   ]
  },
  {
   "cell_type": "code",
   "execution_count": 14,
   "id": "168f7583-06fc-4bd6-9cc5-58c1f317ffd1",
   "metadata": {},
   "outputs": [
    {
     "data": {
      "text/plain": [
       "{0: 'A',\n",
       " 1: 'B',\n",
       " 2: 'C',\n",
       " 3: 'D',\n",
       " 4: 'E',\n",
       " 5: 'F',\n",
       " 6: 'G',\n",
       " 7: 'H',\n",
       " 8: 'I',\n",
       " 9: 'J'}"
      ]
     },
     "execution_count": 14,
     "metadata": {},
     "output_type": "execute_result"
    }
   ],
   "source": [
    "# słownik, gdzie kluczem jest liczba, a wartością - kolejna litera z alfabetu\n",
    "{\n",
    "    liczba : litery[ liczba  ].upper()  \n",
    "    for liczba in liczby \n",
    "}"
   ]
  },
  {
   "cell_type": "code",
   "execution_count": 15,
   "id": "9053dd02-3a86-4f19-a49b-308e12fc484a",
   "metadata": {},
   "outputs": [
    {
     "data": {
      "text/plain": [
       "{0: 'A',\n",
       " 1: 'B',\n",
       " 2: 'C',\n",
       " 3: 'D',\n",
       " 4: 'E',\n",
       " 5: 'F',\n",
       " 6: 'G',\n",
       " 7: 'H',\n",
       " 8: 'I',\n",
       " 9: 'J'}"
      ]
     },
     "execution_count": 15,
     "metadata": {},
     "output_type": "execute_result"
    }
   ],
   "source": [
    "slownik = {liczba:litery[liczba].upper() for liczba in liczby}\n",
    "slownik"
   ]
  },
  {
   "cell_type": "code",
   "execution_count": 16,
   "id": "db945ede-744b-4dee-b90b-22575512780e",
   "metadata": {},
   "outputs": [
    {
     "data": {
      "text/plain": [
       "'E'"
      ]
     },
     "execution_count": 16,
     "metadata": {},
     "output_type": "execute_result"
    }
   ],
   "source": [
    "slownik.get(4)"
   ]
  },
  {
   "cell_type": "markdown",
   "id": "3bb7d5bd-5082-4a35-9af5-4ba0b256644e",
   "metadata": {},
   "source": [
    "## funkcje wbudowane"
   ]
  },
  {
   "cell_type": "code",
   "execution_count": 17,
   "id": "207c1da5-60e6-423f-8f0a-34cd697378a5",
   "metadata": {},
   "outputs": [
    {
     "data": {
      "text/plain": [
       "124"
      ]
     },
     "execution_count": 17,
     "metadata": {},
     "output_type": "execute_result"
    }
   ],
   "source": [
    "abs(-124)"
   ]
  },
  {
   "cell_type": "code",
   "execution_count": 18,
   "id": "f8683670-dbf1-48fc-ac5e-dbf35bb46b59",
   "metadata": {},
   "outputs": [
    {
     "data": {
      "text/plain": [
       "257"
      ]
     },
     "execution_count": 18,
     "metadata": {},
     "output_type": "execute_result"
    }
   ],
   "source": [
    "sum( [1, 5, 8, 243] )"
   ]
  },
  {
   "cell_type": "code",
   "execution_count": 19,
   "id": "602d9831-7aa5-4013-9969-99b96cde8795",
   "metadata": {},
   "outputs": [
    {
     "ename": "TypeError",
     "evalue": "unsupported operand type(s) for +: 'int' and 'str'",
     "output_type": "error",
     "traceback": [
      "\u001b[1;31m---------------------------------------------------------------------------\u001b[0m",
      "\u001b[1;31mTypeError\u001b[0m                                 Traceback (most recent call last)",
      "Cell \u001b[1;32mIn[19], line 1\u001b[0m\n\u001b[1;32m----> 1\u001b[0m \u001b[38;5;28;43msum\u001b[39;49m\u001b[43m(\u001b[49m\u001b[43m \u001b[49m\u001b[43m[\u001b[49m\u001b[38;5;241;43m1\u001b[39;49m\u001b[43m,\u001b[49m\u001b[43m \u001b[49m\u001b[38;5;241;43m5\u001b[39;49m\u001b[43m,\u001b[49m\u001b[43m \u001b[49m\u001b[38;5;241;43m8\u001b[39;49m\u001b[43m,\u001b[49m\u001b[43m \u001b[49m\u001b[38;5;241;43m243\u001b[39;49m\u001b[43m,\u001b[49m\u001b[43m \u001b[49m\u001b[38;5;124;43m'\u001b[39;49m\u001b[38;5;124;43mabeb\u001b[39;49m\u001b[38;5;124;43m'\u001b[39;49m\u001b[43m]\u001b[49m\u001b[43m \u001b[49m\u001b[43m)\u001b[49m\n",
      "\u001b[1;31mTypeError\u001b[0m: unsupported operand type(s) for +: 'int' and 'str'"
     ]
    }
   ],
   "source": [
    "sum( [1, 5, 8, 243, 'abeb'] )"
   ]
  },
  {
   "cell_type": "code",
   "execution_count": 21,
   "id": "6bffa9a6-1195-4da5-a70f-803dce39dc29",
   "metadata": {},
   "outputs": [
    {
     "data": {
      "text/plain": [
       "1"
      ]
     },
     "execution_count": 21,
     "metadata": {},
     "output_type": "execute_result"
    }
   ],
   "source": [
    "min( [1, 5, 8, 243] )"
   ]
  },
  {
   "cell_type": "code",
   "execution_count": 22,
   "id": "6662c006-2b49-4cce-95f9-1a068d003c26",
   "metadata": {},
   "outputs": [
    {
     "data": {
      "text/plain": [
       "243"
      ]
     },
     "execution_count": 22,
     "metadata": {},
     "output_type": "execute_result"
    }
   ],
   "source": [
    "max( [1, 5, 8, 243] )"
   ]
  },
  {
   "cell_type": "code",
   "execution_count": 28,
   "id": "5ba0658b-3a75-41c3-8062-add382009e39",
   "metadata": {},
   "outputs": [],
   "source": [
    "s = 'ala MA kota'"
   ]
  },
  {
   "cell_type": "code",
   "execution_count": 29,
   "id": "8a9c0f09-1b95-48a3-90e0-ecf5193b5e7f",
   "metadata": {},
   "outputs": [
    {
     "data": {
      "text/plain": [
       "'ALA MA KOTA'"
      ]
     },
     "execution_count": 29,
     "metadata": {},
     "output_type": "execute_result"
    }
   ],
   "source": [
    "s.upper()"
   ]
  },
  {
   "cell_type": "code",
   "execution_count": 30,
   "id": "21face69-0c63-4c2c-9eb0-f175bf2924d2",
   "metadata": {},
   "outputs": [
    {
     "data": {
      "text/plain": [
       "'ala ma kota'"
      ]
     },
     "execution_count": 30,
     "metadata": {},
     "output_type": "execute_result"
    }
   ],
   "source": [
    "s.lower()"
   ]
  },
  {
   "cell_type": "code",
   "execution_count": 31,
   "id": "e50ef8ea-0920-46f3-bcda-40067d6c7ac3",
   "metadata": {},
   "outputs": [
    {
     "data": {
      "text/plain": [
       "'Ala Ma Kota'"
      ]
     },
     "execution_count": 31,
     "metadata": {},
     "output_type": "execute_result"
    }
   ],
   "source": [
    "s.title()"
   ]
  },
  {
   "cell_type": "code",
   "execution_count": 32,
   "id": "600980bd-3286-4010-a3c8-012d0821c5b3",
   "metadata": {},
   "outputs": [
    {
     "data": {
      "text/plain": [
       "'Ala ma kota'"
      ]
     },
     "execution_count": 32,
     "metadata": {},
     "output_type": "execute_result"
    }
   ],
   "source": [
    "s.capitalize()"
   ]
  },
  {
   "cell_type": "markdown",
   "id": "e76c840f-123d-4792-9d75-f5819bc9ee24",
   "metadata": {},
   "source": [
    "## f-string"
   ]
  },
  {
   "cell_type": "code",
   "execution_count": 34,
   "id": "3f8d3dcd-8292-4eae-8f7c-00b172a26696",
   "metadata": {},
   "outputs": [
    {
     "data": {
      "text/plain": [
       "'ala3'"
      ]
     },
     "execution_count": 34,
     "metadata": {},
     "output_type": "execute_result"
    }
   ],
   "source": [
    "\"ala\" + str(3)"
   ]
  },
  {
   "cell_type": "code",
   "execution_count": 38,
   "id": "0ec8b533-6cb2-4d9b-a086-08623f3adf26",
   "metadata": {},
   "outputs": [
    {
     "name": "stdout",
     "output_type": "stream",
     "text": [
      "ala 3\n"
     ]
    }
   ],
   "source": [
    "print('ala', 3)"
   ]
  },
  {
   "cell_type": "code",
   "execution_count": 39,
   "id": "f42b6bdb-4f7a-4524-b101-5c65534763fb",
   "metadata": {},
   "outputs": [
    {
     "data": {
      "text/plain": [
       "'ala3'"
      ]
     },
     "execution_count": 39,
     "metadata": {},
     "output_type": "execute_result"
    }
   ],
   "source": [
    "f\"ala3\""
   ]
  },
  {
   "cell_type": "code",
   "execution_count": 42,
   "id": "2b1e61d8-e93e-4388-af90-c5759a3fa7a9",
   "metadata": {},
   "outputs": [
    {
     "data": {
      "text/plain": [
       "'ala   30'"
      ]
     },
     "execution_count": 42,
     "metadata": {},
     "output_type": "execute_result"
    }
   ],
   "source": [
    "imie = 'ala'\n",
    "wiek = 30\n",
    "\n",
    "f\"{imie}   {wiek}\""
   ]
  },
  {
   "cell_type": "code",
   "execution_count": 43,
   "id": "46ca14bf-a412-497d-a546-3cebe457f7e2",
   "metadata": {},
   "outputs": [
    {
     "data": {
      "text/plain": [
       "'2025-09-08 11:24'"
      ]
     },
     "execution_count": 43,
     "metadata": {},
     "output_type": "execute_result"
    }
   ],
   "source": [
    "\"2025-09-08 11:24\""
   ]
  },
  {
   "cell_type": "code",
   "execution_count": 44,
   "id": "0b2bc28e-740e-4cbe-b163-b2ed76fa3766",
   "metadata": {},
   "outputs": [],
   "source": [
    "from datetime import datetime"
   ]
  },
  {
   "cell_type": "code",
   "execution_count": 45,
   "id": "ce97e8db-3a19-47ed-a7a3-ee109e15ab51",
   "metadata": {},
   "outputs": [
    {
     "data": {
      "text/plain": [
       "datetime.datetime(2025, 9, 8, 11, 24, 29, 880971)"
      ]
     },
     "execution_count": 45,
     "metadata": {},
     "output_type": "execute_result"
    }
   ],
   "source": [
    "datetime.now()"
   ]
  },
  {
   "cell_type": "code",
   "execution_count": 46,
   "id": "44cfcf7b-730e-46b4-958f-fe1c383a2623",
   "metadata": {},
   "outputs": [
    {
     "data": {
      "text/plain": [
       "'8'"
      ]
     },
     "execution_count": 46,
     "metadata": {},
     "output_type": "execute_result"
    }
   ],
   "source": [
    "f\"{ 3+5 }\""
   ]
  },
  {
   "cell_type": "code",
   "execution_count": 47,
   "id": "46beab69-9f1c-4e83-97fa-418def2bec9c",
   "metadata": {},
   "outputs": [
    {
     "data": {
      "text/plain": [
       "'2025-09-08 11:25:06.389928'"
      ]
     },
     "execution_count": 47,
     "metadata": {},
     "output_type": "execute_result"
    }
   ],
   "source": [
    "f\"{datetime.now()}\""
   ]
  },
  {
   "cell_type": "code",
   "execution_count": 48,
   "id": "91f997e7-8f88-4779-831d-3803bbf6ab21",
   "metadata": {},
   "outputs": [
    {
     "data": {
      "text/plain": [
       "'2025-09-08 11:25'"
      ]
     },
     "execution_count": 48,
     "metadata": {},
     "output_type": "execute_result"
    }
   ],
   "source": [
    "f\"{datetime.now():%Y-%m-%d %H:%M}\""
   ]
  },
  {
   "cell_type": "code",
   "execution_count": 49,
   "id": "8c4f649c-c0ef-4e87-80c3-bdaed9acc166",
   "metadata": {},
   "outputs": [
    {
     "data": {
      "text/plain": [
       "'2025_09_08_raport_placowy.xlsx'"
      ]
     },
     "execution_count": 49,
     "metadata": {},
     "output_type": "execute_result"
    }
   ],
   "source": [
    "nazwa_pliku_z_raportem = f\"{datetime.now():%Y_%m_%d}_raport_placowy.xlsx\"\n",
    "nazwa_pliku_z_raportem\n"
   ]
  },
  {
   "cell_type": "markdown",
   "id": "f002c062-829d-4841-8f99-c58708ce0a8c",
   "metadata": {},
   "source": [
    "## enumerate"
   ]
  },
  {
   "cell_type": "code",
   "execution_count": 53,
   "id": "ad6712e6-bef7-4ae1-a4e0-82b9bef9d6bf",
   "metadata": {},
   "outputs": [
    {
     "name": "stdout",
     "output_type": "stream",
     "text": [
      "Iteracja: 0 => literka = a\n",
      "Iteracja: 1 => literka = b\n",
      "Iteracja: 2 => literka = c\n",
      "Iteracja: 3 => literka = d\n",
      "Iteracja: 4 => literka = e\n",
      "Iteracja: 5 => literka = f\n",
      "Iteracja: 6 => literka = g\n",
      "Iteracja: 7 => literka = h\n",
      "Iteracja: 8 => literka = i\n",
      "Iteracja: 9 => literka = j\n",
      "Iteracja: 10 => literka = k\n"
     ]
    }
   ],
   "source": [
    "litery = tuple('abcdefghijk')\n",
    "\n",
    "nr_iteracji = 0\n",
    "for l in litery:\n",
    "    print(f\"Iteracja: {nr_iteracji} => literka = {l}\")\n",
    "    # nr_iteracji = nr_iteracji + 1\n",
    "    nr_iteracji += 1"
   ]
  },
  {
   "cell_type": "code",
   "execution_count": 6,
   "id": "a7f843d5-9dd6-407f-b9e1-8c31711570c3",
   "metadata": {},
   "outputs": [
    {
     "name": "stdout",
     "output_type": "stream",
     "text": [
      "Iteracja: 0 => literka = a\n",
      "Zapisuję na dysku raport w wersji 0\n",
      "Iteracja: 1 => literka = b\n",
      "Iteracja: 2 => literka = c\n",
      "Iteracja: 3 => literka = d\n",
      "Iteracja: 4 => literka = e\n",
      "Iteracja: 5 => literka = f\n",
      "Zapisuję na dysku raport w wersji 5\n",
      "Iteracja: 6 => literka = g\n",
      "Iteracja: 7 => literka = h\n",
      "Iteracja: 8 => literka = i\n",
      "Iteracja: 9 => literka = j\n",
      "Iteracja: 10 => literka = k\n",
      "Zapisuję na dysku raport w wersji 10\n",
      "Iteracja: 11 => literka = l\n",
      "Iteracja: 12 => literka = m\n",
      "Iteracja: 13 => literka = n\n",
      "Iteracja: 14 => literka = o\n",
      "Iteracja: 15 => literka = p\n",
      "Zapisuję na dysku raport w wersji 15\n",
      "Iteracja: 16 => literka = q\n",
      "Iteracja: 17 => literka = r\n",
      "Iteracja: 18 => literka = s\n",
      "Iteracja: 19 => literka = t\n",
      "Iteracja: 20 => literka = u\n",
      "Zapisuję na dysku raport w wersji 20\n",
      "Iteracja: 21 => literka = v\n",
      "Iteracja: 22 => literka = w\n",
      "Iteracja: 23 => literka = x\n",
      "Iteracja: 24 => literka = y\n",
      "Iteracja: 25 => literka = z\n",
      "Zapisuję na dysku raport w wersji 25\n"
     ]
    }
   ],
   "source": [
    "litery = tuple('abcdefghijklmnopqrstuvwxyz')\n",
    "\n",
    "for nr_iteracji, l in enumerate(litery):\n",
    "    print(f\"Iteracja: {nr_iteracji} => literka = {l}\")\n",
    "\n",
    "    # co 5 iterację zapisujemy wynik na dysku\n",
    "    if nr_iteracji % 5 == 0:\n",
    "        print(f\"Zapisuję na dysku raport w wersji {nr_iteracji}\")\n",
    "    "
   ]
  },
  {
   "cell_type": "markdown",
   "id": "a235bd7e-2d67-4162-9475-261453fc90e8",
   "metadata": {},
   "source": [
    "## zip()"
   ]
  },
  {
   "cell_type": "code",
   "execution_count": 14,
   "id": "699ac16e-f86c-4e14-9c41-ab086c9de5bd",
   "metadata": {},
   "outputs": [],
   "source": [
    "litery = tuple('abcdefghijklmnopq')\n",
    "liczby = list(range(10))\n"
   ]
  },
  {
   "cell_type": "code",
   "execution_count": 17,
   "id": "5892b9d3-5079-4bde-b830-a4a60218f9b3",
   "metadata": {},
   "outputs": [
    {
     "name": "stdout",
     "output_type": "stream",
     "text": [
      "litera='a', liczba=0\n",
      "litera='b', liczba=1\n",
      "litera='c', liczba=2\n",
      "litera='d', liczba=3\n",
      "litera='e', liczba=4\n",
      "litera='f', liczba=5\n",
      "litera='g', liczba=6\n",
      "litera='h', liczba=7\n",
      "litera='i', liczba=8\n",
      "litera='j', liczba=9\n"
     ]
    }
   ],
   "source": [
    "for litera, liczba in zip(litery, liczby):\n",
    "    print(f\"{litera=}, {liczba=}\")"
   ]
  },
  {
   "cell_type": "markdown",
   "id": "d7abb7f7-e7ad-43af-9d67-39964108a9c8",
   "metadata": {},
   "source": [
    "## if..elif..else"
   ]
  },
  {
   "cell_type": "code",
   "execution_count": 20,
   "id": "f0d1d4f4-d324-4a29-89bb-bd2ae047c374",
   "metadata": {},
   "outputs": [
    {
     "name": "stdout",
     "output_type": "stream",
     "text": [
      "Mniejsze od 5\n"
     ]
    }
   ],
   "source": [
    "x = 2\n",
    "if x > 5:\n",
    "    print(\"Większe od 5\")\n",
    "elif x == 5:\n",
    "    print(\"Równe 5\")\n",
    "else:\n",
    "    print(\"Mniejsze od 5\")"
   ]
  },
  {
   "cell_type": "code",
   "execution_count": null,
   "id": "7b53738d-b746-4de4-9461-142d7262efe4",
   "metadata": {},
   "outputs": [],
   "source": []
  }
 ],
 "metadata": {
  "kernelspec": {
   "display_name": "Python 3 (ipykernel)",
   "language": "python",
   "name": "python3"
  },
  "language_info": {
   "codemirror_mode": {
    "name": "ipython",
    "version": 3
   },
   "file_extension": ".py",
   "mimetype": "text/x-python",
   "name": "python",
   "nbconvert_exporter": "python",
   "pygments_lexer": "ipython3",
   "version": "3.10.7"
  }
 },
 "nbformat": 4,
 "nbformat_minor": 5
}
