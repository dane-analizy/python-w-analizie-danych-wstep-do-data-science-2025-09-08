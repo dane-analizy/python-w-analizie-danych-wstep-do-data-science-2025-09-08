{
 "cells": [
  {
   "cell_type": "code",
   "execution_count": 4,
   "id": "59b27d82-7981-405c-a6b8-356de41e927e",
   "metadata": {},
   "outputs": [],
   "source": [
    "import statistics\n"
   ]
  },
  {
   "cell_type": "code",
   "execution_count": 26,
   "id": "87aab8c8-8479-4814-82fa-8fe050405e03",
   "metadata": {},
   "outputs": [],
   "source": [
    "import math"
   ]
  },
  {
   "cell_type": "code",
   "execution_count": 10,
   "id": "022d3332-5db5-4627-9831-85ca54be7baa",
   "metadata": {},
   "outputs": [],
   "source": [
    "dane = [2, 4, 6, 8, 10, 12, 11, 10, 10]"
   ]
  },
  {
   "cell_type": "code",
   "execution_count": 11,
   "id": "15611e5d-a87c-4164-8941-019b8784df9f",
   "metadata": {},
   "outputs": [
    {
     "data": {
      "text/plain": [
       "8.11111111111111"
      ]
     },
     "execution_count": 11,
     "metadata": {},
     "output_type": "execute_result"
    }
   ],
   "source": [
    "# średnia\n",
    "# suma elementów / liczba elementów\n",
    "sum(dane) / len(dane)\n"
   ]
  },
  {
   "cell_type": "code",
   "execution_count": 3,
   "id": "64b1e312-e0e9-4255-a52f-6d3ca7367c3f",
   "metadata": {},
   "outputs": [
    {
     "ename": "NameError",
     "evalue": "name 'mean' is not defined",
     "output_type": "error",
     "traceback": [
      "\u001b[1;31m---------------------------------------------------------------------------\u001b[0m",
      "\u001b[1;31mNameError\u001b[0m                                 Traceback (most recent call last)",
      "Cell \u001b[1;32mIn[3], line 1\u001b[0m\n\u001b[1;32m----> 1\u001b[0m \u001b[43mmean\u001b[49m(dane)\n",
      "\u001b[1;31mNameError\u001b[0m: name 'mean' is not defined"
     ]
    }
   ],
   "source": [
    "mean(dane)"
   ]
  },
  {
   "cell_type": "code",
   "execution_count": 12,
   "id": "d795363f-ee16-4191-bbb8-2d8f8a84ce13",
   "metadata": {},
   "outputs": [
    {
     "data": {
      "text/plain": [
       "8.11111111111111"
      ]
     },
     "execution_count": 12,
     "metadata": {},
     "output_type": "execute_result"
    }
   ],
   "source": [
    "statistics.mean(dane)"
   ]
  },
  {
   "cell_type": "code",
   "execution_count": 13,
   "id": "773f4366-e46f-467f-a198-920dfbb1488c",
   "metadata": {},
   "outputs": [
    {
     "data": {
      "text/plain": [
       "10"
      ]
     },
     "execution_count": 13,
     "metadata": {},
     "output_type": "execute_result"
    }
   ],
   "source": [
    "statistics.median(dane)"
   ]
  },
  {
   "cell_type": "code",
   "execution_count": 14,
   "id": "9b68a291-ab10-4613-9010-6a2c6ef945c0",
   "metadata": {},
   "outputs": [
    {
     "data": {
      "text/plain": [
       "10"
      ]
     },
     "execution_count": 14,
     "metadata": {},
     "output_type": "execute_result"
    }
   ],
   "source": [
    "statistics.mode(dane)"
   ]
  },
  {
   "cell_type": "code",
   "execution_count": 17,
   "id": "39d2cb0f-739b-4fe6-bb9e-41b5764b6a0e",
   "metadata": {},
   "outputs": [],
   "source": [
    "def rozstep(dane):\n",
    "    return max(dane) - min(dane)"
   ]
  },
  {
   "cell_type": "code",
   "execution_count": 19,
   "id": "d22f1fa5-11ce-4b62-9cfd-8c47f5d57e49",
   "metadata": {},
   "outputs": [],
   "source": [
    "rozstep = lambda d: max(d) - min(d)"
   ]
  },
  {
   "cell_type": "code",
   "execution_count": 20,
   "id": "9fe2052b-f382-4116-8c4f-b15947040ce6",
   "metadata": {},
   "outputs": [
    {
     "data": {
      "text/plain": [
       "10"
      ]
     },
     "execution_count": 20,
     "metadata": {},
     "output_type": "execute_result"
    }
   ],
   "source": [
    "rozstep(dane)"
   ]
  },
  {
   "cell_type": "code",
   "execution_count": 21,
   "id": "c7ef3bdf-07a6-4a39-852c-2f8f69be577c",
   "metadata": {},
   "outputs": [
    {
     "data": {
      "text/plain": [
       "11.61111111111111"
      ]
     },
     "execution_count": 21,
     "metadata": {},
     "output_type": "execute_result"
    }
   ],
   "source": [
    "statistics.variance(dane)"
   ]
  },
  {
   "cell_type": "code",
   "execution_count": 27,
   "id": "a791344b-79c2-4949-a40a-2aa2a37866bf",
   "metadata": {},
   "outputs": [
    {
     "data": {
      "text/plain": [
       "3.4075080500434787"
      ]
     },
     "execution_count": 27,
     "metadata": {},
     "output_type": "execute_result"
    }
   ],
   "source": [
    "math.sqrt(11.61111111111111)\n"
   ]
  },
  {
   "cell_type": "code",
   "execution_count": 24,
   "id": "b305bc2e-cbf4-4e4c-aa34-87e2c27a6642",
   "metadata": {},
   "outputs": [
    {
     "data": {
      "text/plain": [
       "3.4075080500434787"
      ]
     },
     "execution_count": 24,
     "metadata": {},
     "output_type": "execute_result"
    }
   ],
   "source": [
    "statistics.stdev(dane)"
   ]
  },
  {
   "cell_type": "code",
   "execution_count": 30,
   "id": "319b87e0-7e15-495e-bd13-2596f57bb10e",
   "metadata": {},
   "outputs": [
    {
     "data": {
      "text/plain": [
       "[5.0, 10.0, 10.5]"
      ]
     },
     "execution_count": 30,
     "metadata": {},
     "output_type": "execute_result"
    }
   ],
   "source": [
    "statistics.quantiles(dane, n=4)"
   ]
  },
  {
   "cell_type": "code",
   "execution_count": 28,
   "id": "c19b3b66-4c27-4080-9815-0617bb52a740",
   "metadata": {},
   "outputs": [
    {
     "data": {
      "text/plain": [
       "2.581988897471611"
      ]
     },
     "execution_count": 28,
     "metadata": {},
     "output_type": "execute_result"
    }
   ],
   "source": [
    "# Średnia (average, mean):\n",
    "statistics.mean([2, 4, 6, 8])\n",
    "\n",
    "# Mediana:\n",
    "statistics.median([2, 4, 6, 8])\n",
    "\n",
    "# Dominanta (moda):\n",
    "statistics.mode([2, 4, 4, 6])\n",
    "\n",
    "# Rozstęp - nie ma gotowej funkcji, należy skorzystać z:\n",
    "max(dane) - min(dane)\n",
    "\n",
    "# Wariancja:\n",
    "statistics.variance([2, 4, 6, 8])\n",
    "\n",
    "# Odchylenie standardowe:\n",
    "statistics.stdev([2, 4, 6, 8])"
   ]
  }
 ],
 "metadata": {
  "kernelspec": {
   "display_name": "Python 3 (ipykernel)",
   "language": "python",
   "name": "python3"
  },
  "language_info": {
   "codemirror_mode": {
    "name": "ipython",
    "version": 3
   },
   "file_extension": ".py",
   "mimetype": "text/x-python",
   "name": "python",
   "nbconvert_exporter": "python",
   "pygments_lexer": "ipython3",
   "version": "3.10.7"
  }
 },
 "nbformat": 4,
 "nbformat_minor": 5
}
