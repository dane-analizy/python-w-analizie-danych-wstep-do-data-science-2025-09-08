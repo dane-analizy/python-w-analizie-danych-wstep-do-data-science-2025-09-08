{
 "cells": [
  {
   "cell_type": "code",
   "execution_count": 1,
   "id": "19fbd8ac-aa2e-476a-8fe2-197ab0458921",
   "metadata": {},
   "outputs": [],
   "source": [
    "import pandas as pd"
   ]
  },
  {
   "cell_type": "code",
   "execution_count": 22,
   "id": "946c1598-6b1b-46ed-802f-0023da006566",
   "metadata": {},
   "outputs": [
    {
     "name": "stdout",
     "output_type": "stream",
     "text": [
      "Requirement already satisfied: lxml in c:\\users\\lemur\\desktop\\szkolenie_comarch\\kod\\.venv\\lib\\site-packages (6.0.1)\n",
      "Requirement already satisfied: html5lib in c:\\users\\lemur\\desktop\\szkolenie_comarch\\kod\\.venv\\lib\\site-packages (1.1)\n",
      "Collecting tabulate\n",
      "  Downloading tabulate-0.9.0-py3-none-any.whl (35 kB)\n",
      "Requirement already satisfied: webencodings in c:\\users\\lemur\\desktop\\szkolenie_comarch\\kod\\.venv\\lib\\site-packages (from html5lib) (0.5.1)\n",
      "Requirement already satisfied: six>=1.9 in c:\\users\\lemur\\desktop\\szkolenie_comarch\\kod\\.venv\\lib\\site-packages (from html5lib) (1.17.0)\n",
      "Installing collected packages: tabulate\n",
      "Successfully installed tabulate-0.9.0\n"
     ]
    },
    {
     "name": "stderr",
     "output_type": "stream",
     "text": [
      "\n",
      "[notice] A new release of pip available: 22.2.2 -> 25.2\n",
      "[notice] To update, run: python.exe -m pip install --upgrade pip\n"
     ]
    }
   ],
   "source": [
    "# trzba doinstalować\n",
    "!pip install lxml html5lib tabulate"
   ]
  },
  {
   "cell_type": "code",
   "execution_count": 4,
   "id": "63458d08-b69b-4635-a73b-3b7b23d177ab",
   "metadata": {},
   "outputs": [
    {
     "ename": "NameError",
     "evalue": "name 'db_con' is not defined",
     "output_type": "error",
     "traceback": [
      "\u001b[1;31m---------------------------------------------------------------------------\u001b[0m",
      "\u001b[1;31mNameError\u001b[0m                                 Traceback (most recent call last)",
      "Cell \u001b[1;32mIn[4], line 1\u001b[0m\n\u001b[1;32m----> 1\u001b[0m pd\u001b[38;5;241m.\u001b[39mread_sql(\u001b[38;5;124m\"\u001b[39m\u001b[38;5;124mselect * from tabelka\u001b[39m\u001b[38;5;124m\"\u001b[39m, \u001b[43mdb_con\u001b[49m) \u001b[38;5;66;03m# dane z zapytania SQL z bazy podłączonej via db_con\u001b[39;00m\n",
      "\u001b[1;31mNameError\u001b[0m: name 'db_con' is not defined"
     ]
    }
   ],
   "source": [
    "pd.read_sql(\"select * from tabelka\", db_con) # dane z zapytania SQL z bazy podłączonej via db_con"
   ]
  },
  {
   "cell_type": "code",
   "execution_count": 12,
   "id": "4a941bce-c044-4a46-bacb-5a5a00bb54cc",
   "metadata": {},
   "outputs": [],
   "source": [
    "html = \"\"\"\n",
    "<!DOCTYPE html>\n",
    "<html lang=\"pl\">\n",
    "<head>\n",
    "    <meta charset=\"UTF-8\">\n",
    "    <title>Przykładowa Tabela</title>\n",
    "    <style>\n",
    "        table {\n",
    "            border-collapse: collapse;\n",
    "            width: 50%;\n",
    "            margin: 20px auto;\n",
    "        }\n",
    "        th, td {\n",
    "            border: 1px solid #333;\n",
    "            padding: 8px;\n",
    "            text-align: center;\n",
    "        }\n",
    "        th {\n",
    "            background-color: #f2f2f2;\n",
    "        }\n",
    "    </style>\n",
    "</head>\n",
    "<body>\n",
    "\n",
    "    <h2 style=\"text-align:center;\">Przykładowa Tabela</h2>\n",
    "\n",
    "    <table>\n",
    "        <thead>\n",
    "            <tr>\n",
    "                <th>Kolumna 1</th>\n",
    "                <th>Kolumna 2</th>\n",
    "                <th>Kolumna 3</th>\n",
    "            </tr>\n",
    "        </thead>\n",
    "        <tbody>\n",
    "            <tr>\n",
    "                <td>Wiersz 1, Kol 1</td>\n",
    "                <td>Wiersz 1, Kol 2</td>\n",
    "                <td>Wiersz 1, Kol 3</td>\n",
    "            </tr>\n",
    "            <tr>\n",
    "                <td>Wiersz 2, Kol 1</td>\n",
    "                <td>Wiersz 2, Kol 2</td>\n",
    "                <td>Wiersz 2, Kol 3</td>\n",
    "            </tr>\n",
    "            <tr>\n",
    "                <td>Wiersz 3, Kol 1</td>\n",
    "                <td>Wiersz 3, Kol 2</td>\n",
    "                <td>Wiersz 3, Kol 3</td>\n",
    "            </tr>\n",
    "            <tr>\n",
    "                <td>Wiersz 4, Kol 1</td>\n",
    "                <td>Wiersz 4, Kol 2</td>\n",
    "                <td>Wiersz 4, Kol 3</td>\n",
    "            </tr>\n",
    "            <tr>\n",
    "                <td>Wiersz 5, Kol 1</td>\n",
    "                <td>Wiersz 5, Kol 2</td>\n",
    "                <td>Wiersz 5, Kol 3</td>\n",
    "            </tr>\n",
    "        </tbody>\n",
    "    </table>\n",
    "\n",
    "</body>\n",
    "</html>\n",
    "\n",
    "\"\"\""
   ]
  },
  {
   "cell_type": "code",
   "execution_count": 14,
   "id": "9ed7d63a-c2be-4d00-ace8-c32ba3c9b468",
   "metadata": {},
   "outputs": [
    {
     "name": "stderr",
     "output_type": "stream",
     "text": [
      "C:\\Users\\lemur\\AppData\\Local\\Temp\\ipykernel_10768\\3113695039.py:1: FutureWarning: Passing literal html to 'read_html' is deprecated and will be removed in a future version. To read from a literal string, wrap it in a 'StringIO' object.\n",
      "  df_list = pd.read_html(html) # lista data freme'ów odczytanych z htmla\n"
     ]
    },
    {
     "data": {
      "text/plain": [
       "[         Kolumna 1        Kolumna 2        Kolumna 3\n",
       " 0  Wiersz 1, Kol 1  Wiersz 1, Kol 2  Wiersz 1, Kol 3\n",
       " 1  Wiersz 2, Kol 1  Wiersz 2, Kol 2  Wiersz 2, Kol 3\n",
       " 2  Wiersz 3, Kol 1  Wiersz 3, Kol 2  Wiersz 3, Kol 3\n",
       " 3  Wiersz 4, Kol 1  Wiersz 4, Kol 2  Wiersz 4, Kol 3\n",
       " 4  Wiersz 5, Kol 1  Wiersz 5, Kol 2  Wiersz 5, Kol 3]"
      ]
     },
     "execution_count": 14,
     "metadata": {},
     "output_type": "execute_result"
    }
   ],
   "source": [
    "df_list = pd.read_html(html) # lista data freme'ów odczytanych z htmla\n",
    "df_list"
   ]
  },
  {
   "cell_type": "code",
   "execution_count": 15,
   "id": "19df57e7-3286-4bb2-a696-686f4d195124",
   "metadata": {},
   "outputs": [
    {
     "data": {
      "text/plain": [
       "1"
      ]
     },
     "execution_count": 15,
     "metadata": {},
     "output_type": "execute_result"
    }
   ],
   "source": [
    "len(df_list)"
   ]
  },
  {
   "cell_type": "code",
   "execution_count": 17,
   "id": "4c43b38f-67e1-4621-8cff-31cfb1e7a201",
   "metadata": {},
   "outputs": [
    {
     "data": {
      "text/html": [
       "<div>\n",
       "<style scoped>\n",
       "    .dataframe tbody tr th:only-of-type {\n",
       "        vertical-align: middle;\n",
       "    }\n",
       "\n",
       "    .dataframe tbody tr th {\n",
       "        vertical-align: top;\n",
       "    }\n",
       "\n",
       "    .dataframe thead th {\n",
       "        text-align: right;\n",
       "    }\n",
       "</style>\n",
       "<table border=\"1\" class=\"dataframe\">\n",
       "  <thead>\n",
       "    <tr style=\"text-align: right;\">\n",
       "      <th></th>\n",
       "      <th>Kolumna 1</th>\n",
       "      <th>Kolumna 2</th>\n",
       "      <th>Kolumna 3</th>\n",
       "    </tr>\n",
       "  </thead>\n",
       "  <tbody>\n",
       "    <tr>\n",
       "      <th>0</th>\n",
       "      <td>Wiersz 1, Kol 1</td>\n",
       "      <td>Wiersz 1, Kol 2</td>\n",
       "      <td>Wiersz 1, Kol 3</td>\n",
       "    </tr>\n",
       "    <tr>\n",
       "      <th>1</th>\n",
       "      <td>Wiersz 2, Kol 1</td>\n",
       "      <td>Wiersz 2, Kol 2</td>\n",
       "      <td>Wiersz 2, Kol 3</td>\n",
       "    </tr>\n",
       "    <tr>\n",
       "      <th>2</th>\n",
       "      <td>Wiersz 3, Kol 1</td>\n",
       "      <td>Wiersz 3, Kol 2</td>\n",
       "      <td>Wiersz 3, Kol 3</td>\n",
       "    </tr>\n",
       "    <tr>\n",
       "      <th>3</th>\n",
       "      <td>Wiersz 4, Kol 1</td>\n",
       "      <td>Wiersz 4, Kol 2</td>\n",
       "      <td>Wiersz 4, Kol 3</td>\n",
       "    </tr>\n",
       "    <tr>\n",
       "      <th>4</th>\n",
       "      <td>Wiersz 5, Kol 1</td>\n",
       "      <td>Wiersz 5, Kol 2</td>\n",
       "      <td>Wiersz 5, Kol 3</td>\n",
       "    </tr>\n",
       "  </tbody>\n",
       "</table>\n",
       "</div>"
      ],
      "text/plain": [
       "         Kolumna 1        Kolumna 2        Kolumna 3\n",
       "0  Wiersz 1, Kol 1  Wiersz 1, Kol 2  Wiersz 1, Kol 3\n",
       "1  Wiersz 2, Kol 1  Wiersz 2, Kol 2  Wiersz 2, Kol 3\n",
       "2  Wiersz 3, Kol 1  Wiersz 3, Kol 2  Wiersz 3, Kol 3\n",
       "3  Wiersz 4, Kol 1  Wiersz 4, Kol 2  Wiersz 4, Kol 3\n",
       "4  Wiersz 5, Kol 1  Wiersz 5, Kol 2  Wiersz 5, Kol 3"
      ]
     },
     "execution_count": 17,
     "metadata": {},
     "output_type": "execute_result"
    }
   ],
   "source": [
    "df_list[0]"
   ]
  },
  {
   "cell_type": "code",
   "execution_count": 18,
   "id": "ce2a3383-a308-4018-90c0-30c90293bc95",
   "metadata": {},
   "outputs": [],
   "source": [
    "markdown = \"\"\"\n",
    "| Kolumna 1       | Kolumna 2       | Kolumna 3       |\n",
    "|-----------------|-----------------|-----------------|\n",
    "| Wiersz 1, Kol 1 | Wiersz 1, Kol 2 | Wiersz 1, Kol 3 |\n",
    "| Wiersz 2, Kol 1 | Wiersz 2, Kol 2 | Wiersz 2, Kol 3 |\n",
    "| Wiersz 3, Kol 1 | Wiersz 3, Kol 2 | Wiersz 3, Kol 3 |\n",
    "| Wiersz 4, Kol 1 | Wiersz 4, Kol 2 | Wiersz 4, Kol 3 |\n",
    "| Wiersz 5, Kol 1 | Wiersz 5, Kol 2 | Wiersz 5, Kol 3 |\n",
    "\"\"\"\n"
   ]
  },
  {
   "cell_type": "code",
   "execution_count": 25,
   "id": "92c9486a-1800-42a0-ae45-99ddbde3bae5",
   "metadata": {},
   "outputs": [
    {
     "name": "stdout",
     "output_type": "stream",
     "text": [
      "| Kolumna 1       | Kolumna 2       | Kolumna 3       |\n",
      "|:----------------|:----------------|:----------------|\n",
      "| Wiersz 1, Kol 1 | Wiersz 1, Kol 2 | Wiersz 1, Kol 3 |\n",
      "| Wiersz 2, Kol 1 | Wiersz 2, Kol 2 | Wiersz 2, Kol 3 |\n",
      "| Wiersz 3, Kol 1 | Wiersz 3, Kol 2 | Wiersz 3, Kol 3 |\n",
      "| Wiersz 4, Kol 1 | Wiersz 4, Kol 2 | Wiersz 4, Kol 3 |\n",
      "| Wiersz 5, Kol 1 | Wiersz 5, Kol 2 | Wiersz 5, Kol 3 |\n"
     ]
    }
   ],
   "source": [
    "print(df_list[0].to_markdown(index=False))"
   ]
  }
 ],
 "metadata": {
  "kernelspec": {
   "display_name": "Python 3 (ipykernel)",
   "language": "python",
   "name": "python3"
  },
  "language_info": {
   "codemirror_mode": {
    "name": "ipython",
    "version": 3
   },
   "file_extension": ".py",
   "mimetype": "text/x-python",
   "name": "python",
   "nbconvert_exporter": "python",
   "pygments_lexer": "ipython3",
   "version": "3.10.7"
  }
 },
 "nbformat": 4,
 "nbformat_minor": 5
}
