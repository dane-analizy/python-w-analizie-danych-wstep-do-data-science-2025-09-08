{
 "cells": [
  {
   "cell_type": "code",
   "execution_count": 1,
   "id": "14f5d203-d13b-4a22-95a2-6d76370b36ce",
   "metadata": {},
   "outputs": [],
   "source": [
    "import pandas as pd"
   ]
  },
  {
   "cell_type": "code",
   "execution_count": 6,
   "id": "a11c10fe-c041-4d34-8faf-a48df10f0ff9",
   "metadata": {},
   "outputs": [
    {
     "data": {
      "text/html": [
       "<div>\n",
       "<style scoped>\n",
       "    .dataframe tbody tr th:only-of-type {\n",
       "        vertical-align: middle;\n",
       "    }\n",
       "\n",
       "    .dataframe tbody tr th {\n",
       "        vertical-align: top;\n",
       "    }\n",
       "\n",
       "    .dataframe thead th {\n",
       "        text-align: right;\n",
       "    }\n",
       "</style>\n",
       "<table border=\"1\" class=\"dataframe\">\n",
       "  <thead>\n",
       "    <tr style=\"text-align: right;\">\n",
       "      <th></th>\n",
       "      <th>kol1</th>\n",
       "      <th>kol2</th>\n",
       "      <th>kol3</th>\n",
       "    </tr>\n",
       "  </thead>\n",
       "  <tbody>\n",
       "    <tr>\n",
       "      <th>0</th>\n",
       "      <td>a</td>\n",
       "      <td>1</td>\n",
       "      <td>ala ma kota</td>\n",
       "    </tr>\n",
       "    <tr>\n",
       "      <th>1</th>\n",
       "      <td>b</td>\n",
       "      <td>2</td>\n",
       "      <td>olek ma psa</td>\n",
       "    </tr>\n",
       "    <tr>\n",
       "      <th>2</th>\n",
       "      <td>c</td>\n",
       "      <td>3</td>\n",
       "      <td>zuzia jest sama</td>\n",
       "    </tr>\n",
       "  </tbody>\n",
       "</table>\n",
       "</div>"
      ],
      "text/plain": [
       "  kol1  kol2             kol3\n",
       "0    a     1      ala ma kota\n",
       "1    b     2      olek ma psa\n",
       "2    c     3  zuzia jest sama"
      ]
     },
     "execution_count": 6,
     "metadata": {},
     "output_type": "execute_result"
    }
   ],
   "source": [
    "pd.read_excel(\"dane/wiele_arkuszy.xlsx\", sheet_name='Arkusz1')"
   ]
  },
  {
   "cell_type": "code",
   "execution_count": 7,
   "id": "467241f5-cc7d-45ce-acec-cda1bfb13bf3",
   "metadata": {},
   "outputs": [
    {
     "data": {
      "text/html": [
       "<div>\n",
       "<style scoped>\n",
       "    .dataframe tbody tr th:only-of-type {\n",
       "        vertical-align: middle;\n",
       "    }\n",
       "\n",
       "    .dataframe tbody tr th {\n",
       "        vertical-align: top;\n",
       "    }\n",
       "\n",
       "    .dataframe thead th {\n",
       "        text-align: right;\n",
       "    }\n",
       "</style>\n",
       "<table border=\"1\" class=\"dataframe\">\n",
       "  <thead>\n",
       "    <tr style=\"text-align: right;\">\n",
       "      <th></th>\n",
       "      <th>Imie</th>\n",
       "      <th>Wiek</th>\n",
       "    </tr>\n",
       "  </thead>\n",
       "  <tbody>\n",
       "    <tr>\n",
       "      <th>0</th>\n",
       "      <td>Anna</td>\n",
       "      <td>28.0</td>\n",
       "    </tr>\n",
       "    <tr>\n",
       "      <th>1</th>\n",
       "      <td>Marcin</td>\n",
       "      <td>NaN</td>\n",
       "    </tr>\n",
       "    <tr>\n",
       "      <th>2</th>\n",
       "      <td>None</td>\n",
       "      <td>35.0</td>\n",
       "    </tr>\n",
       "    <tr>\n",
       "      <th>3</th>\n",
       "      <td>Julia</td>\n",
       "      <td>22.0</td>\n",
       "    </tr>\n",
       "  </tbody>\n",
       "</table>\n",
       "</div>"
      ],
      "text/plain": [
       "     Imie  Wiek\n",
       "0    Anna  28.0\n",
       "1  Marcin   NaN\n",
       "2    None  35.0\n",
       "3   Julia  22.0"
      ]
     },
     "execution_count": 7,
     "metadata": {},
     "output_type": "execute_result"
    }
   ],
   "source": [
    "data = {'Imie': ['Anna', 'Marcin', None, 'Julia'],\n",
    "        'Wiek': [28, None, 35, 22]}\n",
    "df = pd.DataFrame(data)\n",
    "df"
   ]
  },
  {
   "cell_type": "code",
   "execution_count": 8,
   "id": "7c328456-f29a-4681-9e80-7e568a44ef5f",
   "metadata": {},
   "outputs": [],
   "source": [
    "df.to_excel(\"dane/wiele_arkuszy.xlsx\", index=False, sheet_name='Nowy_arkusz_1')"
   ]
  },
  {
   "cell_type": "code",
   "execution_count": 9,
   "id": "df5e0619-d622-497e-b06f-e1d34bcfea40",
   "metadata": {},
   "outputs": [
    {
     "data": {
      "text/html": [
       "<div>\n",
       "<style scoped>\n",
       "    .dataframe tbody tr th:only-of-type {\n",
       "        vertical-align: middle;\n",
       "    }\n",
       "\n",
       "    .dataframe tbody tr th {\n",
       "        vertical-align: top;\n",
       "    }\n",
       "\n",
       "    .dataframe thead th {\n",
       "        text-align: right;\n",
       "    }\n",
       "</style>\n",
       "<table border=\"1\" class=\"dataframe\">\n",
       "  <thead>\n",
       "    <tr style=\"text-align: right;\">\n",
       "      <th></th>\n",
       "      <th>Imie</th>\n",
       "      <th>Wiek</th>\n",
       "      <th>Miasto</th>\n",
       "      <th>Pensja</th>\n",
       "    </tr>\n",
       "  </thead>\n",
       "  <tbody>\n",
       "    <tr>\n",
       "      <th>0</th>\n",
       "      <td>Jan</td>\n",
       "      <td>28</td>\n",
       "      <td>Warszawa</td>\n",
       "      <td>5000</td>\n",
       "    </tr>\n",
       "    <tr>\n",
       "      <th>1</th>\n",
       "      <td>Anna</td>\n",
       "      <td>34</td>\n",
       "      <td>Kraków</td>\n",
       "      <td>6200</td>\n",
       "    </tr>\n",
       "    <tr>\n",
       "      <th>2</th>\n",
       "      <td>Piotr</td>\n",
       "      <td>26</td>\n",
       "      <td>Gdańsk</td>\n",
       "      <td>4800</td>\n",
       "    </tr>\n",
       "    <tr>\n",
       "      <th>3</th>\n",
       "      <td>Maria</td>\n",
       "      <td>40</td>\n",
       "      <td>Warszawa</td>\n",
       "      <td>5200</td>\n",
       "    </tr>\n",
       "    <tr>\n",
       "      <th>4</th>\n",
       "      <td>Krzysztof</td>\n",
       "      <td>22</td>\n",
       "      <td>Poznań</td>\n",
       "      <td>4500</td>\n",
       "    </tr>\n",
       "  </tbody>\n",
       "</table>\n",
       "</div>"
      ],
      "text/plain": [
       "        Imie  Wiek    Miasto  Pensja\n",
       "0        Jan    28  Warszawa    5000\n",
       "1       Anna    34    Kraków    6200\n",
       "2      Piotr    26    Gdańsk    4800\n",
       "3      Maria    40  Warszawa    5200\n",
       "4  Krzysztof    22    Poznań    4500"
      ]
     },
     "execution_count": 9,
     "metadata": {},
     "output_type": "execute_result"
    }
   ],
   "source": [
    "df_b = pd.DataFrame({\n",
    "    'Imie': ['Jan', 'Anna', 'Piotr', 'Maria', 'Krzysztof'],\n",
    "    'Wiek': [28, 34, 26, 40, 22],\n",
    "    'Miasto': ['Warszawa', 'Kraków', 'Gdańsk', 'Warszawa', 'Poznań'],\n",
    "    'Pensja': [5000, 6200, 4800, 5200, 4500]\n",
    "})\n",
    "df_b"
   ]
  },
  {
   "cell_type": "code",
   "execution_count": 10,
   "id": "1966d04c-55a2-4a53-ad06-6da8e50f759c",
   "metadata": {},
   "outputs": [],
   "source": [
    "with pd.ExcelWriter(\"dane/wiele_arkuszy.xlsx\", mode='a') as writer:\n",
    "    df_b.to_excel(writer, sheet_name='nowy_arkusz_2')"
   ]
  }
 ],
 "metadata": {
  "kernelspec": {
   "display_name": "Python 3 (ipykernel)",
   "language": "python",
   "name": "python3"
  },
  "language_info": {
   "codemirror_mode": {
    "name": "ipython",
    "version": 3
   },
   "file_extension": ".py",
   "mimetype": "text/x-python",
   "name": "python",
   "nbconvert_exporter": "python",
   "pygments_lexer": "ipython3",
   "version": "3.10.7"
  }
 },
 "nbformat": 4,
 "nbformat_minor": 5
}
