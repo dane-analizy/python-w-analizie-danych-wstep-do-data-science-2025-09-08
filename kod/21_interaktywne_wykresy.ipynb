{
 "cells": [
  {
   "cell_type": "code",
   "execution_count": 1,
   "id": "4f319734-c22f-4ef6-ad76-6abdba46d00e",
   "metadata": {},
   "outputs": [
    {
     "name": "stdout",
     "output_type": "stream",
     "text": [
      "Collecting plotly\n",
      "  Downloading plotly-6.3.0-py3-none-any.whl (9.8 MB)\n",
      "     ---------------------------------------- 9.8/9.8 MB 36.9 MB/s eta 0:00:00\n",
      "Requirement already satisfied: packaging in c:\\users\\lemur\\desktop\\szkolenie_comarch\\kod\\.venv\\lib\\site-packages (from plotly) (25.0)\n",
      "Collecting narwhals>=1.15.1\n",
      "  Downloading narwhals-2.4.0-py3-none-any.whl (406 kB)\n",
      "     ---------------------------------------- 406.2/406.2 kB ? eta 0:00:00\n",
      "Installing collected packages: narwhals, plotly\n",
      "Successfully installed narwhals-2.4.0 plotly-6.3.0\n"
     ]
    },
    {
     "name": "stderr",
     "output_type": "stream",
     "text": [
      "\n",
      "[notice] A new release of pip available: 22.2.2 -> 25.2\n",
      "[notice] To update, run: python.exe -m pip install --upgrade pip\n"
     ]
    }
   ],
   "source": [
    "# instalacja pakietu\n",
    "!pip install plotly"
   ]
  },
  {
   "cell_type": "code",
   "execution_count": 2,
   "id": "a6dd904a-bf45-4265-8dae-032d0c0526ee",
   "metadata": {},
   "outputs": [],
   "source": [
    "import pandas as pd"
   ]
  },
  {
   "cell_type": "code",
   "execution_count": 9,
   "id": "d3fc6c68-f70d-4924-8249-cd6fb40dc3cb",
   "metadata": {},
   "outputs": [],
   "source": [
    "import plotly.express as px\n",
    "\n",
    "import plotly.io as pio\n",
    "pio.renderers.default = 'iframe'"
   ]
  },
  {
   "cell_type": "code",
   "execution_count": 3,
   "id": "dfad4525-9352-42b2-b2aa-37bda13c5b45",
   "metadata": {},
   "outputs": [
    {
     "name": "stderr",
     "output_type": "stream",
     "text": [
      "C:\\Users\\lemur\\AppData\\Local\\Temp\\ipykernel_4720\\1523610207.py:5: DtypeWarning: Columns (3) have mixed types. Specify dtype option on import or set low_memory=False.\n",
      "  movies_df = pd.read_csv(\"dane/film/IMDb_movies.csv\",\n"
     ]
    },
    {
     "data": {
      "text/html": [
       "<div>\n",
       "<style scoped>\n",
       "    .dataframe tbody tr th:only-of-type {\n",
       "        vertical-align: middle;\n",
       "    }\n",
       "\n",
       "    .dataframe tbody tr th {\n",
       "        vertical-align: top;\n",
       "    }\n",
       "\n",
       "    .dataframe thead th {\n",
       "        text-align: right;\n",
       "    }\n",
       "</style>\n",
       "<table border=\"1\" class=\"dataframe\">\n",
       "  <thead>\n",
       "    <tr style=\"text-align: right;\">\n",
       "      <th></th>\n",
       "      <th>imdb_title_id</th>\n",
       "      <th>title</th>\n",
       "      <th>year</th>\n",
       "      <th>genre</th>\n",
       "      <th>duration</th>\n",
       "      <th>genre_list</th>\n",
       "    </tr>\n",
       "  </thead>\n",
       "  <tbody>\n",
       "    <tr>\n",
       "      <th>1</th>\n",
       "      <td>tt0000574</td>\n",
       "      <td>The Story of the Kelly Gang</td>\n",
       "      <td>1906</td>\n",
       "      <td>Biography, Crime, Drama</td>\n",
       "      <td>70</td>\n",
       "      <td>Crime</td>\n",
       "    </tr>\n",
       "    <tr>\n",
       "      <th>1</th>\n",
       "      <td>tt0000574</td>\n",
       "      <td>The Story of the Kelly Gang</td>\n",
       "      <td>1906</td>\n",
       "      <td>Biography, Crime, Drama</td>\n",
       "      <td>70</td>\n",
       "      <td>Drama</td>\n",
       "    </tr>\n",
       "    <tr>\n",
       "      <th>2</th>\n",
       "      <td>tt0001892</td>\n",
       "      <td>Den sorte drøm</td>\n",
       "      <td>1911</td>\n",
       "      <td>Drama</td>\n",
       "      <td>53</td>\n",
       "      <td>Drama</td>\n",
       "    </tr>\n",
       "    <tr>\n",
       "      <th>3</th>\n",
       "      <td>tt0002101</td>\n",
       "      <td>Cleopatra</td>\n",
       "      <td>1912</td>\n",
       "      <td>Drama, History</td>\n",
       "      <td>100</td>\n",
       "      <td>Drama</td>\n",
       "    </tr>\n",
       "    <tr>\n",
       "      <th>4</th>\n",
       "      <td>tt0002130</td>\n",
       "      <td>L'Inferno</td>\n",
       "      <td>1911</td>\n",
       "      <td>Adventure, Drama, Fantasy</td>\n",
       "      <td>68</td>\n",
       "      <td>Drama</td>\n",
       "    </tr>\n",
       "    <tr>\n",
       "      <th>...</th>\n",
       "      <td>...</td>\n",
       "      <td>...</td>\n",
       "      <td>...</td>\n",
       "      <td>...</td>\n",
       "      <td>...</td>\n",
       "      <td>...</td>\n",
       "    </tr>\n",
       "    <tr>\n",
       "      <th>85851</th>\n",
       "      <td>tt9911196</td>\n",
       "      <td>De Beentjes van Sint-Hildegard</td>\n",
       "      <td>2020</td>\n",
       "      <td>Comedy, Drama</td>\n",
       "      <td>103</td>\n",
       "      <td>Comedy</td>\n",
       "    </tr>\n",
       "    <tr>\n",
       "      <th>85851</th>\n",
       "      <td>tt9911196</td>\n",
       "      <td>De Beentjes van Sint-Hildegard</td>\n",
       "      <td>2020</td>\n",
       "      <td>Comedy, Drama</td>\n",
       "      <td>103</td>\n",
       "      <td>Drama</td>\n",
       "    </tr>\n",
       "    <tr>\n",
       "      <th>85852</th>\n",
       "      <td>tt9911774</td>\n",
       "      <td>Padmavyuhathile Abhimanyu</td>\n",
       "      <td>2019</td>\n",
       "      <td>Drama</td>\n",
       "      <td>130</td>\n",
       "      <td>Drama</td>\n",
       "    </tr>\n",
       "    <tr>\n",
       "      <th>85853</th>\n",
       "      <td>tt9914286</td>\n",
       "      <td>Sokagin Çocuklari</td>\n",
       "      <td>2019</td>\n",
       "      <td>Drama, Family</td>\n",
       "      <td>98</td>\n",
       "      <td>Drama</td>\n",
       "    </tr>\n",
       "    <tr>\n",
       "      <th>85854</th>\n",
       "      <td>tt9914942</td>\n",
       "      <td>La vida sense la Sara Amat</td>\n",
       "      <td>2019</td>\n",
       "      <td>Drama</td>\n",
       "      <td>74</td>\n",
       "      <td>Drama</td>\n",
       "    </tr>\n",
       "  </tbody>\n",
       "</table>\n",
       "<p>128466 rows × 6 columns</p>\n",
       "</div>"
      ],
      "text/plain": [
       "      imdb_title_id                           title  year  \\\n",
       "1         tt0000574     The Story of the Kelly Gang  1906   \n",
       "1         tt0000574     The Story of the Kelly Gang  1906   \n",
       "2         tt0001892                  Den sorte drøm  1911   \n",
       "3         tt0002101                       Cleopatra  1912   \n",
       "4         tt0002130                       L'Inferno  1911   \n",
       "...             ...                             ...   ...   \n",
       "85851     tt9911196  De Beentjes van Sint-Hildegard  2020   \n",
       "85851     tt9911196  De Beentjes van Sint-Hildegard  2020   \n",
       "85852     tt9911774       Padmavyuhathile Abhimanyu  2019   \n",
       "85853     tt9914286               Sokagin Çocuklari  2019   \n",
       "85854     tt9914942      La vida sense la Sara Amat  2019   \n",
       "\n",
       "                           genre  duration genre_list  \n",
       "1        Biography, Crime, Drama        70      Crime  \n",
       "1        Biography, Crime, Drama        70      Drama  \n",
       "2                          Drama        53      Drama  \n",
       "3                 Drama, History       100      Drama  \n",
       "4      Adventure, Drama, Fantasy        68      Drama  \n",
       "...                          ...       ...        ...  \n",
       "85851              Comedy, Drama       103     Comedy  \n",
       "85851              Comedy, Drama       103      Drama  \n",
       "85852                      Drama       130      Drama  \n",
       "85853              Drama, Family        98      Drama  \n",
       "85854                      Drama        74      Drama  \n",
       "\n",
       "[128466 rows x 6 columns]"
      ]
     },
     "execution_count": 3,
     "metadata": {},
     "output_type": "execute_result"
    }
   ],
   "source": [
    "GENRES = ['Action', 'Animation', 'Comedy',\n",
    "       'Crime','Drama','Horror', 'Sport', 'Thriller', 'War',\n",
    "       'Western']\n",
    "\n",
    "movies_df = pd.read_csv(\"dane/film/IMDb_movies.csv\",\n",
    "                       usecols=['imdb_title_id', 'title', 'year', 'genre', 'duration'])\n",
    "\n",
    "movies_df = movies_df.dropna()\n",
    "movies_df = movies_df[movies_df['year'] != \"TV Movie 2019\"]\n",
    "\n",
    "movies_df['genre_list'] = movies_df['genre'].apply(lambda s: [el.strip() for el in s.split(\",\")] )\n",
    "movies_df = movies_df.explode('genre_list')\n",
    "\n",
    "movies_df = movies_df[movies_df['genre_list'].isin(GENRES)]\n",
    "movies_df\n"
   ]
  },
  {
   "cell_type": "code",
   "execution_count": 10,
   "id": "45b3cd80-fa9c-4be8-8d4a-a688e28a3160",
   "metadata": {},
   "outputs": [
    {
     "data": {
      "text/html": [
       "<iframe\n",
       "    scrolling=\"no\"\n",
       "    width=\"100%\"\n",
       "    height=\"545px\"\n",
       "    src=\"iframe_figures/figure_10.html\"\n",
       "    frameborder=\"0\"\n",
       "    allowfullscreen\n",
       "></iframe>\n"
      ]
     },
     "metadata": {},
     "output_type": "display_data"
    }
   ],
   "source": [
    "px.line(  data_frame=movies_df.groupby(['year', 'genre_list'], as_index=False).aggregate({\"duration\": \"mean\"}), \n",
    "    x='year',\n",
    "    y='duration',\n",
    "    line_group='genre_list',\n",
    "\n",
    "       )"
   ]
  },
  {
   "cell_type": "code",
   "execution_count": null,
   "id": "5e97bc7f-72bd-4663-ba73-37a3576d4247",
   "metadata": {},
   "outputs": [],
   "source": []
  }
 ],
 "metadata": {
  "kernelspec": {
   "display_name": "Python 3 (ipykernel)",
   "language": "python",
   "name": "python3"
  },
  "language_info": {
   "codemirror_mode": {
    "name": "ipython",
    "version": 3
   },
   "file_extension": ".py",
   "mimetype": "text/x-python",
   "name": "python",
   "nbconvert_exporter": "python",
   "pygments_lexer": "ipython3",
   "version": "3.10.7"
  }
 },
 "nbformat": 4,
 "nbformat_minor": 5
}
