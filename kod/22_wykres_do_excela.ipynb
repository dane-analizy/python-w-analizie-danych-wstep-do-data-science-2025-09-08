{
 "cells": [
  {
   "cell_type": "code",
   "execution_count": 7,
   "id": "22fd35e1-d062-4e9a-bebd-f356ad7fe5de",
   "metadata": {},
   "outputs": [
    {
     "name": "stdout",
     "output_type": "stream",
     "text": [
      "Collecting xlsxwriter\n",
      "  Downloading xlsxwriter-3.2.5-py3-none-any.whl (172 kB)\n",
      "     -------------------------------------- 172.3/172.3 kB 3.4 MB/s eta 0:00:00\n",
      "Installing collected packages: xlsxwriter\n",
      "Successfully installed xlsxwriter-3.2.5\n"
     ]
    },
    {
     "name": "stderr",
     "output_type": "stream",
     "text": [
      "\n",
      "[notice] A new release of pip available: 22.2.2 -> 25.2\n",
      "[notice] To update, run: python.exe -m pip install --upgrade pip\n"
     ]
    }
   ],
   "source": [
    "!pip install xlsxwriter"
   ]
  },
  {
   "cell_type": "code",
   "execution_count": 1,
   "id": "4a4e3500-81b4-4031-aa83-60cdf3cd8a2f",
   "metadata": {},
   "outputs": [],
   "source": [
    "import pandas as pd\n",
    "import matplotlib.pyplot as plt"
   ]
  },
  {
   "cell_type": "code",
   "execution_count": 2,
   "id": "b2a61b11-5e7a-47da-ada4-51b6660af37e",
   "metadata": {},
   "outputs": [
    {
     "data": {
      "text/html": [
       "<div>\n",
       "<style scoped>\n",
       "    .dataframe tbody tr th:only-of-type {\n",
       "        vertical-align: middle;\n",
       "    }\n",
       "\n",
       "    .dataframe tbody tr th {\n",
       "        vertical-align: top;\n",
       "    }\n",
       "\n",
       "    .dataframe thead th {\n",
       "        text-align: right;\n",
       "    }\n",
       "</style>\n",
       "<table border=\"1\" class=\"dataframe\">\n",
       "  <thead>\n",
       "    <tr style=\"text-align: right;\">\n",
       "      <th></th>\n",
       "      <th>Produkt</th>\n",
       "      <th>Sprzedaż</th>\n",
       "    </tr>\n",
       "  </thead>\n",
       "  <tbody>\n",
       "    <tr>\n",
       "      <th>0</th>\n",
       "      <td>A</td>\n",
       "      <td>1500</td>\n",
       "    </tr>\n",
       "    <tr>\n",
       "      <th>1</th>\n",
       "      <td>B</td>\n",
       "      <td>2300</td>\n",
       "    </tr>\n",
       "    <tr>\n",
       "      <th>2</th>\n",
       "      <td>C</td>\n",
       "      <td>1800</td>\n",
       "    </tr>\n",
       "  </tbody>\n",
       "</table>\n",
       "</div>"
      ],
      "text/plain": [
       "  Produkt  Sprzedaż\n",
       "0       A      1500\n",
       "1       B      2300\n",
       "2       C      1800"
      ]
     },
     "execution_count": 2,
     "metadata": {},
     "output_type": "execute_result"
    }
   ],
   "source": [
    "# Przykładowe dane\n",
    "data = {\n",
    "    'Produkt': ['A', 'B', 'C'],\n",
    "    'Sprzedaż': [1500, 2300, 1800]\n",
    "}\n",
    "\n",
    "df = pd.DataFrame(data)\n",
    "df"
   ]
  },
  {
   "cell_type": "code",
   "execution_count": 5,
   "id": "87f98077-8521-4dd0-a519-bbaee3f5ffa3",
   "metadata": {},
   "outputs": [],
   "source": [
    "# Tworzenie wykresu\n",
    "plt.figure(figsize=(6,4))\n",
    "plt.bar(df['Produkt'], df['Sprzedaż'], color='skyblue')\n",
    "plt.title('Sprzedaż wg produktu')\n",
    "plt.xlabel('Produkt')\n",
    "plt.ylabel('Sprzedaż')\n",
    "plt.tight_layout()\n",
    "\n",
    "# Zapisz wykres jako plik PNG\n",
    "plot_file = 'wykres.png'\n",
    "plt.savefig(plot_file)\n",
    "plt.close()"
   ]
  },
  {
   "cell_type": "code",
   "execution_count": 8,
   "id": "2ae62b8d-a4b5-4c4c-9a23-6f012604ed16",
   "metadata": {},
   "outputs": [],
   "source": [
    "# Eksport do Excela z osadzonym wykresem\n",
    "excel_file = 'raport.xlsx'\n",
    "writer = pd.ExcelWriter(excel_file, engine='xlsxwriter')\n",
    "df.to_excel(writer, sheet_name='Dane', index=False)"
   ]
  },
  {
   "cell_type": "code",
   "execution_count": 9,
   "id": "f6a892d5-8224-4ede-bba1-d2a353f64f31",
   "metadata": {},
   "outputs": [],
   "source": [
    "# Uzyskaj obiekt workbook i worksheet\n",
    "workbook  = writer.book\n",
    "worksheet = writer.sheets['Dane']"
   ]
  },
  {
   "cell_type": "code",
   "execution_count": 10,
   "id": "6b6b3f27-2bea-4c33-aaab-7fb283987f27",
   "metadata": {},
   "outputs": [
    {
     "data": {
      "text/plain": [
       "0"
      ]
     },
     "execution_count": 10,
     "metadata": {},
     "output_type": "execute_result"
    }
   ],
   "source": [
    "# Wstaw obraz do Excela (np. komórka E2)\n",
    "worksheet.insert_image('E2', plot_file)"
   ]
  },
  {
   "cell_type": "code",
   "execution_count": 11,
   "id": "b5a796ed-cfde-4297-9fbd-027c8876c0e1",
   "metadata": {},
   "outputs": [],
   "source": [
    "# Zapisz plik\n",
    "writer.close()\n"
   ]
  },
  {
   "cell_type": "code",
   "execution_count": null,
   "id": "a8abf5db-bf78-4a98-8b78-67c1ccf9f2d8",
   "metadata": {},
   "outputs": [],
   "source": []
  }
 ],
 "metadata": {
  "kernelspec": {
   "display_name": "Python 3 (ipykernel)",
   "language": "python",
   "name": "python3"
  },
  "language_info": {
   "codemirror_mode": {
    "name": "ipython",
    "version": 3
   },
   "file_extension": ".py",
   "mimetype": "text/x-python",
   "name": "python",
   "nbconvert_exporter": "python",
   "pygments_lexer": "ipython3",
   "version": "3.10.7"
  }
 },
 "nbformat": 4,
 "nbformat_minor": 5
}
